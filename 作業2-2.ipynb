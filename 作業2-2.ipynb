{
 "cells": [
  {
   "cell_type": "code",
   "execution_count": 1,
   "metadata": {},
   "outputs": [
    {
     "name": "stdout",
     "output_type": "stream",
     "text": [
      "今晚幾點睡機器人 :2\n",
      "今晚幾點睡機器人 :翹課翹起來\n",
      "今晚幾點睡機器人 :5\n",
      "今晚幾點睡機器人 :翹課翹起來\n",
      "今晚幾點睡機器人 :6\n",
      "今晚幾點睡機器人 :記得設鬧鐘\n",
      "今晚幾點睡機器人 :8\n",
      "今晚幾點睡機器人 :記得設鬧鐘\n",
      "今晚幾點睡機器人 :100000000\n",
      "今晚幾點睡機器人 :e04勒老子不幹了88\n"
     ]
    }
   ],
   "source": [
    "msg=\"\"\n",
    "while(msg!=\"100000000\"):\n",
    "    msg=input(\"今晚幾點睡機器人 :\")\n",
    "    if(6>float(msg)>1):\n",
    "        print(\"今晚幾點睡機器人 :翹課翹起來\")\n",
    "    elif(100000001>float(msg)>99999999):\n",
    "        print(\"今晚幾點睡機器人 :e04勒老子不幹了88\")\n",
    "    else:\n",
    "        print(\"今晚幾點睡機器人 :記得設鬧鐘\")\n",
    "        \n",
    "\n",
    "    \n",
    "    "
   ]
  },
  {
   "cell_type": "code",
   "execution_count": null,
   "metadata": {},
   "outputs": [],
   "source": []
  }
 ],
 "metadata": {
  "kernelspec": {
   "display_name": "Python 3",
   "language": "python",
   "name": "python3"
  },
  "language_info": {
   "codemirror_mode": {
    "name": "ipython",
    "version": 3
   },
   "file_extension": ".py",
   "mimetype": "text/x-python",
   "name": "python",
   "nbconvert_exporter": "python",
   "pygments_lexer": "ipython3",
   "version": "3.7.3"
  }
 },
 "nbformat": 4,
 "nbformat_minor": 2
}
