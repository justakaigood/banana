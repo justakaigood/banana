{
  "nbformat": 4,
  "nbformat_minor": 0,
  "metadata": {
    "colab": {
      "name": "tensorflow 2",
      "provenance": [],
      "collapsed_sections": [],
      "authorship_tag": "ABX9TyNey3bHYYYlOm3n50hB5frU",
      "include_colab_link": true
    },
    "kernelspec": {
      "name": "python3",
      "display_name": "Python 3"
    },
    "accelerator": "TPU",
    "widgets": {
      "application/vnd.jupyter.widget-state+json": {
        "06a06321257c4fac8e87b7e280dfae9a": {
          "model_module": "@jupyter-widgets/controls",
          "model_name": "VBoxModel",
          "state": {
            "_view_name": "VBoxView",
            "_dom_classes": [
              "widget-interact"
            ],
            "_model_name": "VBoxModel",
            "_view_module": "@jupyter-widgets/controls",
            "_model_module_version": "1.5.0",
            "_view_count": null,
            "_view_module_version": "1.5.0",
            "box_style": "",
            "layout": "IPY_MODEL_26e77757142d49c5a60f68078ecd71ae",
            "_model_module": "@jupyter-widgets/controls",
            "children": [
              "IPY_MODEL_a5de12d8624547e6920b502f0e3a661b",
              "IPY_MODEL_efe2a88d1de543b7aefb7040794ec0fc",
              "IPY_MODEL_4f27c1c028c44f86ac7ca2b5b7717aac"
            ]
          }
        },
        "26e77757142d49c5a60f68078ecd71ae": {
          "model_module": "@jupyter-widgets/base",
          "model_name": "LayoutModel",
          "state": {
            "_view_name": "LayoutView",
            "grid_template_rows": null,
            "right": null,
            "justify_content": null,
            "_view_module": "@jupyter-widgets/base",
            "overflow": null,
            "_model_module_version": "1.2.0",
            "_view_count": null,
            "flex_flow": null,
            "width": null,
            "min_width": null,
            "border": null,
            "align_items": null,
            "bottom": null,
            "_model_module": "@jupyter-widgets/base",
            "top": null,
            "grid_column": null,
            "overflow_y": null,
            "overflow_x": null,
            "grid_auto_flow": null,
            "grid_area": null,
            "grid_template_columns": null,
            "flex": null,
            "_model_name": "LayoutModel",
            "justify_items": null,
            "grid_row": null,
            "max_height": null,
            "align_content": null,
            "visibility": null,
            "align_self": null,
            "height": null,
            "min_height": null,
            "padding": null,
            "grid_auto_rows": null,
            "grid_gap": null,
            "max_width": null,
            "order": null,
            "_view_module_version": "1.2.0",
            "grid_template_areas": null,
            "object_position": null,
            "object_fit": null,
            "grid_auto_columns": null,
            "margin": null,
            "display": null,
            "left": null
          }
        },
        "a5de12d8624547e6920b502f0e3a661b": {
          "model_module": "@jupyter-widgets/controls",
          "model_name": "IntSliderModel",
          "state": {
            "_view_name": "IntSliderView",
            "style": "IPY_MODEL_7789364e68574302977f6a6f3b95e0c1",
            "_dom_classes": [],
            "description": "n",
            "step": 1,
            "_model_name": "IntSliderModel",
            "orientation": "horizontal",
            "max": 500,
            "_view_module": "@jupyter-widgets/controls",
            "_model_module_version": "1.5.0",
            "value": 187,
            "_view_count": null,
            "disabled": false,
            "_view_module_version": "1.5.0",
            "min": 0,
            "continuous_update": true,
            "readout_format": "d",
            "description_tooltip": null,
            "readout": true,
            "_model_module": "@jupyter-widgets/controls",
            "layout": "IPY_MODEL_0a4e80d4d3984ed1a1e97c51a2b8be8e"
          }
        },
        "efe2a88d1de543b7aefb7040794ec0fc": {
          "model_module": "@jupyter-widgets/controls",
          "model_name": "ButtonModel",
          "state": {
            "_view_name": "ButtonView",
            "style": "IPY_MODEL_e0a3a65348e34988afa80b8cafa9588d",
            "_dom_classes": [],
            "description": "Run Interact",
            "_model_name": "ButtonModel",
            "button_style": "",
            "_view_module": "@jupyter-widgets/controls",
            "_model_module_version": "1.5.0",
            "tooltip": "",
            "_view_count": null,
            "disabled": false,
            "_view_module_version": "1.5.0",
            "layout": "IPY_MODEL_f6b1740af78144afa5a0f303c2138256",
            "_model_module": "@jupyter-widgets/controls",
            "icon": ""
          }
        },
        "4f27c1c028c44f86ac7ca2b5b7717aac": {
          "model_module": "@jupyter-widgets/output",
          "model_name": "OutputModel",
          "state": {
            "_view_name": "OutputView",
            "msg_id": "",
            "_dom_classes": [],
            "_model_name": "OutputModel",
            "outputs": [
              {
                "output_type": "stream",
                "metadata": {
                  "tags": []
                },
                "text": " CNN預測 7\n",
                "stream": "stdout"
              },
              {
                "output_type": "display_data",
                "metadata": {
                  "tags": [],
                  "needs_background": "light"
                },
                "image/png": "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\n",
                "text/plain": "<Figure size 432x288 with 1 Axes>"
              }
            ],
            "_view_module": "@jupyter-widgets/output",
            "_model_module_version": "1.0.0",
            "_view_count": null,
            "_view_module_version": "1.0.0",
            "layout": "IPY_MODEL_d860059af8a74bdcbd20b20da86d04cc",
            "_model_module": "@jupyter-widgets/output"
          }
        },
        "7789364e68574302977f6a6f3b95e0c1": {
          "model_module": "@jupyter-widgets/controls",
          "model_name": "SliderStyleModel",
          "state": {
            "_view_name": "StyleView",
            "handle_color": null,
            "_model_name": "SliderStyleModel",
            "description_width": "",
            "_view_module": "@jupyter-widgets/base",
            "_model_module_version": "1.5.0",
            "_view_count": null,
            "_view_module_version": "1.2.0",
            "_model_module": "@jupyter-widgets/controls"
          }
        },
        "0a4e80d4d3984ed1a1e97c51a2b8be8e": {
          "model_module": "@jupyter-widgets/base",
          "model_name": "LayoutModel",
          "state": {
            "_view_name": "LayoutView",
            "grid_template_rows": null,
            "right": null,
            "justify_content": null,
            "_view_module": "@jupyter-widgets/base",
            "overflow": null,
            "_model_module_version": "1.2.0",
            "_view_count": null,
            "flex_flow": null,
            "width": null,
            "min_width": null,
            "border": null,
            "align_items": null,
            "bottom": null,
            "_model_module": "@jupyter-widgets/base",
            "top": null,
            "grid_column": null,
            "overflow_y": null,
            "overflow_x": null,
            "grid_auto_flow": null,
            "grid_area": null,
            "grid_template_columns": null,
            "flex": null,
            "_model_name": "LayoutModel",
            "justify_items": null,
            "grid_row": null,
            "max_height": null,
            "align_content": null,
            "visibility": null,
            "align_self": null,
            "height": null,
            "min_height": null,
            "padding": null,
            "grid_auto_rows": null,
            "grid_gap": null,
            "max_width": null,
            "order": null,
            "_view_module_version": "1.2.0",
            "grid_template_areas": null,
            "object_position": null,
            "object_fit": null,
            "grid_auto_columns": null,
            "margin": null,
            "display": null,
            "left": null
          }
        },
        "e0a3a65348e34988afa80b8cafa9588d": {
          "model_module": "@jupyter-widgets/controls",
          "model_name": "ButtonStyleModel",
          "state": {
            "_view_name": "StyleView",
            "_model_name": "ButtonStyleModel",
            "_view_module": "@jupyter-widgets/base",
            "_model_module_version": "1.5.0",
            "_view_count": null,
            "button_color": null,
            "font_weight": "",
            "_view_module_version": "1.2.0",
            "_model_module": "@jupyter-widgets/controls"
          }
        },
        "f6b1740af78144afa5a0f303c2138256": {
          "model_module": "@jupyter-widgets/base",
          "model_name": "LayoutModel",
          "state": {
            "_view_name": "LayoutView",
            "grid_template_rows": null,
            "right": null,
            "justify_content": null,
            "_view_module": "@jupyter-widgets/base",
            "overflow": null,
            "_model_module_version": "1.2.0",
            "_view_count": null,
            "flex_flow": null,
            "width": null,
            "min_width": null,
            "border": null,
            "align_items": null,
            "bottom": null,
            "_model_module": "@jupyter-widgets/base",
            "top": null,
            "grid_column": null,
            "overflow_y": null,
            "overflow_x": null,
            "grid_auto_flow": null,
            "grid_area": null,
            "grid_template_columns": null,
            "flex": null,
            "_model_name": "LayoutModel",
            "justify_items": null,
            "grid_row": null,
            "max_height": null,
            "align_content": null,
            "visibility": null,
            "align_self": null,
            "height": null,
            "min_height": null,
            "padding": null,
            "grid_auto_rows": null,
            "grid_gap": null,
            "max_width": null,
            "order": null,
            "_view_module_version": "1.2.0",
            "grid_template_areas": null,
            "object_position": null,
            "object_fit": null,
            "grid_auto_columns": null,
            "margin": null,
            "display": null,
            "left": null
          }
        },
        "d860059af8a74bdcbd20b20da86d04cc": {
          "model_module": "@jupyter-widgets/base",
          "model_name": "LayoutModel",
          "state": {
            "_view_name": "LayoutView",
            "grid_template_rows": null,
            "right": null,
            "justify_content": null,
            "_view_module": "@jupyter-widgets/base",
            "overflow": null,
            "_model_module_version": "1.2.0",
            "_view_count": null,
            "flex_flow": null,
            "width": null,
            "min_width": null,
            "border": null,
            "align_items": null,
            "bottom": null,
            "_model_module": "@jupyter-widgets/base",
            "top": null,
            "grid_column": null,
            "overflow_y": null,
            "overflow_x": null,
            "grid_auto_flow": null,
            "grid_area": null,
            "grid_template_columns": null,
            "flex": null,
            "_model_name": "LayoutModel",
            "justify_items": null,
            "grid_row": null,
            "max_height": null,
            "align_content": null,
            "visibility": null,
            "align_self": null,
            "height": null,
            "min_height": null,
            "padding": null,
            "grid_auto_rows": null,
            "grid_gap": null,
            "max_width": null,
            "order": null,
            "_view_module_version": "1.2.0",
            "grid_template_areas": null,
            "object_position": null,
            "object_fit": null,
            "grid_auto_columns": null,
            "margin": null,
            "display": null,
            "left": null
          }
        }
      }
    }
  },
  "cells": [
    {
      "cell_type": "markdown",
      "metadata": {
        "id": "view-in-github",
        "colab_type": "text"
      },
      "source": [
        "<a href=\"https://colab.research.google.com/github/justakaigood/banana/blob/master/tensorflow_2.ipynb\" target=\"_parent\"><img src=\"https://colab.research.google.com/assets/colab-badge.svg\" alt=\"Open In Colab\"/></a>"
      ]
    },
    {
      "cell_type": "code",
      "metadata": {
        "id": "lpTu-HwO5Ofw",
        "colab_type": "code",
        "outputId": "0da860a2-612e-47aa-f1aa-8082c8da7084",
        "colab": {
          "base_uri": "https://localhost:8080/",
          "height": 87
        }
      },
      "source": [
        "%tensorflow_version"
      ],
      "execution_count": 1,
      "outputs": [
        {
          "output_type": "stream",
          "text": [
            "Currently selected TF version: 2.x\n",
            "Available versions:\n",
            "* 1.x\n",
            "* 2.x\n"
          ],
          "name": "stdout"
        }
      ]
    },
    {
      "cell_type": "code",
      "metadata": {
        "id": "eYvkAIdn5xEx",
        "colab_type": "code",
        "colab": {}
      },
      "source": [
        "%tensorflow_version 2.x"
      ],
      "execution_count": 0,
      "outputs": []
    },
    {
      "cell_type": "code",
      "metadata": {
        "id": "uQMgkEhH7hgL",
        "colab_type": "code",
        "colab": {}
      },
      "source": [
        "%matplotlib inline\n",
        "import numpy as np\n",
        "import matplotlib.pyplot as plt"
      ],
      "execution_count": 0,
      "outputs": []
    },
    {
      "cell_type": "code",
      "metadata": {
        "id": "DeEMqTHB7paA",
        "colab_type": "code",
        "colab": {}
      },
      "source": [
        "import tensorflow as tf"
      ],
      "execution_count": 0,
      "outputs": []
    },
    {
      "cell_type": "code",
      "metadata": {
        "id": "EpcZB6Qe7tBM",
        "colab_type": "code",
        "colab": {}
      },
      "source": [
        "from tensorflow.keras.datasets import fashion_mnist"
      ],
      "execution_count": 0,
      "outputs": []
    },
    {
      "cell_type": "code",
      "metadata": {
        "id": "821zPIi37w-M",
        "colab_type": "code",
        "colab": {
          "base_uri": "https://localhost:8080/",
          "height": 156
        },
        "outputId": "f2749a5b-12da-40f8-955c-0fd3a8c048dd"
      },
      "source": [
        "(x_train,y_train),(x_test,y_test) = fashion_mnist.load_data()"
      ],
      "execution_count": 6,
      "outputs": [
        {
          "output_type": "stream",
          "text": [
            "Downloading data from https://storage.googleapis.com/tensorflow/tf-keras-datasets/train-labels-idx1-ubyte.gz\n",
            "32768/29515 [=================================] - 0s 0us/step\n",
            "Downloading data from https://storage.googleapis.com/tensorflow/tf-keras-datasets/train-images-idx3-ubyte.gz\n",
            "26427392/26421880 [==============================] - 0s 0us/step\n",
            "Downloading data from https://storage.googleapis.com/tensorflow/tf-keras-datasets/t10k-labels-idx1-ubyte.gz\n",
            "8192/5148 [===============================================] - 0s 0us/step\n",
            "Downloading data from https://storage.googleapis.com/tensorflow/tf-keras-datasets/t10k-images-idx3-ubyte.gz\n",
            "4423680/4422102 [==============================] - 0s 0us/step\n"
          ],
          "name": "stdout"
        }
      ]
    },
    {
      "cell_type": "code",
      "metadata": {
        "id": "dJ1IA27A8nKT",
        "colab_type": "code",
        "colab": {}
      },
      "source": [
        "class_names = ['T-shirt/top', 'Trouser', 'Pullover', 'Dress', 'Coat',\n",
        "               'Sandal', 'Shirt', 'Sneaker', 'Bag', 'Ankle boot']"
      ],
      "execution_count": 0,
      "outputs": []
    },
    {
      "cell_type": "code",
      "metadata": {
        "id": "gJtLL0ON9C3h",
        "colab_type": "code",
        "outputId": "4edd092b-adda-4380-eb0d-dfd766ed825d",
        "colab": {
          "base_uri": "https://localhost:8080/",
          "height": 35
        }
      },
      "source": [
        "len(x_train),len(x_test)"
      ],
      "execution_count": 8,
      "outputs": [
        {
          "output_type": "execute_result",
          "data": {
            "text/plain": [
              "(60000, 10000)"
            ]
          },
          "metadata": {
            "tags": []
          },
          "execution_count": 8
        }
      ]
    },
    {
      "cell_type": "code",
      "metadata": {
        "id": "2zxQn6p2zIhY",
        "colab_type": "code",
        "colab": {
          "base_uri": "https://localhost:8080/",
          "height": 35
        },
        "outputId": "144a7b3a-390c-4607-9619-69a9a19677e2"
      },
      "source": [
        "x_train.shape"
      ],
      "execution_count": 9,
      "outputs": [
        {
          "output_type": "execute_result",
          "data": {
            "text/plain": [
              "(60000, 28, 28)"
            ]
          },
          "metadata": {
            "tags": []
          },
          "execution_count": 9
        }
      ]
    },
    {
      "cell_type": "code",
      "metadata": {
        "id": "V6f1lOg99fP0",
        "colab_type": "code",
        "outputId": "725e077d-3974-403c-df27-6ecd3fe445ca",
        "colab": {
          "base_uri": "https://localhost:8080/",
          "height": 283
        }
      },
      "source": [
        "n=3333\n",
        "print('這是', class_names[y_train[n]])\n",
        "plt.imshow(x_train[n], cmap='Greys');"
      ],
      "execution_count": 10,
      "outputs": [
        {
          "output_type": "stream",
          "text": [
            "這是 T-shirt/top\n"
          ],
          "name": "stdout"
        },
        {
          "output_type": "display_data",
          "data": {
            "image/png": "[encoded data removed]",
            "text/plain": [
              "<Figure size 432x288 with 1 Axes>"
            ]
          },
          "metadata": {
            "tags": [],
            "needs_background": "light"
          }
        }
      ]
    },
    {
      "cell_type": "code",
      "metadata": {
        "id": "mhslafoI96JW",
        "colab_type": "code",
        "outputId": "18152c73-2bad-4970-e2e8-909e2342f4ed",
        "colab": {
          "base_uri": "https://localhost:8080/",
          "height": 106
        }
      },
      "source": [
        "pick = np.random.choice(60000, 5, replace=False)\n",
        "\n",
        "for i in range(5):\n",
        "    n = pick[i]\n",
        "    ax = plt.subplot(151+i)\n",
        "    ax.set_xticks([])\n",
        "    ax.set_yticks([])\n",
        "    ax.set_title(class_names[y_train[n]], fontsize=10)\n",
        "    plt.imshow(x_train[n], cmap='Greys')  "
      ],
      "execution_count": 11,
      "outputs": [
        {
          "output_type": "display_data",
          "data": {
            "image/png": "[encoded data removed]",
            "text/plain": [
              "<Figure size 432x288 with 5 Axes>"
            ]
          },
          "metadata": {
            "tags": []
          }
        }
      ]
    },
    {
      "cell_type": "code",
      "metadata": {
        "id": "TOxghGpi-8bM",
        "colab_type": "code",
        "colab": {}
      },
      "source": [
        "x_train = x_train.reshape(60000,28,28,1)\n",
        "x_test = x_test.reshape(10000,28,28,1)"
      ],
      "execution_count": 0,
      "outputs": []
    },
    {
      "cell_type": "code",
      "metadata": {
        "id": "28GB-mGvFkdI",
        "colab_type": "code",
        "colab": {}
      },
      "source": [
        "from tensorflow.keras.utils import to_categorical"
      ],
      "execution_count": 0,
      "outputs": []
    },
    {
      "cell_type": "code",
      "metadata": {
        "id": "aLlQu4lFFzno",
        "colab_type": "code",
        "colab": {}
      },
      "source": [
        "y_train=to_categorical(y_train,10)"
      ],
      "execution_count": 0,
      "outputs": []
    },
    {
      "cell_type": "code",
      "metadata": {
        "id": "GjIzZleqF-5w",
        "colab_type": "code",
        "colab": {}
      },
      "source": [
        "y_test=to_categorical(y_test,10)"
      ],
      "execution_count": 0,
      "outputs": []
    },
    {
      "cell_type": "code",
      "metadata": {
        "id": "gIGU2eyx_QCs",
        "colab_type": "code",
        "colab": {}
      },
      "source": [
        "from tensorflow.keras.models import Sequential\n",
        "from tensorflow.keras.layers import Conv2D, MaxPooling2D\n",
        "from tensorflow.keras.layers import Dense, Flatten\n",
        "from tensorflow.keras.optimizers import SGD"
      ],
      "execution_count": 0,
      "outputs": []
    },
    {
      "cell_type": "code",
      "metadata": {
        "id": "nKZ3is9V_S0v",
        "colab_type": "code",
        "colab": {}
      },
      "source": [
        "model = Sequential()"
      ],
      "execution_count": 0,
      "outputs": []
    },
    {
      "cell_type": "code",
      "metadata": {
        "id": "Izu1Xht9z93G",
        "colab_type": "code",
        "colab": {}
      },
      "source": [
        "model.add(Conv2D(16, (3,3), padding='same',\n",
        "                input_shape=(28,28,1),\n",
        "                activation='relu'))"
      ],
      "execution_count": 0,
      "outputs": []
    },
    {
      "cell_type": "code",
      "metadata": {
        "id": "6p7x-LhA_aCJ",
        "colab_type": "code",
        "colab": {}
      },
      "source": [
        "model.add(MaxPooling2D(pool_size=(2,2)))"
      ],
      "execution_count": 0,
      "outputs": []
    },
    {
      "cell_type": "code",
      "metadata": {
        "id": "uS8xgqYm_pDx",
        "colab_type": "code",
        "colab": {}
      },
      "source": [
        "model.add(Conv2D(32, (3,3), padding='same',\n",
        "                activation='relu'))"
      ],
      "execution_count": 0,
      "outputs": []
    },
    {
      "cell_type": "code",
      "metadata": {
        "id": "ogCcB1_80I6F",
        "colab_type": "code",
        "colab": {}
      },
      "source": [
        "model.add(MaxPooling2D(pool_size=(2,2)))"
      ],
      "execution_count": 0,
      "outputs": []
    },
    {
      "cell_type": "code",
      "metadata": {
        "id": "i6p0Wds30L-_",
        "colab_type": "code",
        "colab": {}
      },
      "source": [
        "model.add(Conv2D(64, (3,3), padding='same',\n",
        "                activation='relu'))"
      ],
      "execution_count": 0,
      "outputs": []
    },
    {
      "cell_type": "code",
      "metadata": {
        "id": "kfX9h4yC0P0e",
        "colab_type": "code",
        "colab": {}
      },
      "source": [
        "model.add(MaxPooling2D(pool_size=(2,2)))"
      ],
      "execution_count": 0,
      "outputs": []
    },
    {
      "cell_type": "code",
      "metadata": {
        "id": "5Dmeo6yL0SZF",
        "colab_type": "code",
        "colab": {}
      },
      "source": [
        "model.add(Flatten())"
      ],
      "execution_count": 0,
      "outputs": []
    },
    {
      "cell_type": "code",
      "metadata": {
        "id": "2VPdH0VN0Wgl",
        "colab_type": "code",
        "colab": {}
      },
      "source": [
        "model.add(Dense(54, activation='relu'))"
      ],
      "execution_count": 0,
      "outputs": []
    },
    {
      "cell_type": "code",
      "metadata": {
        "id": "SKGfgx550Xzd",
        "colab_type": "code",
        "colab": {}
      },
      "source": [
        "model.add(Dense(10, activation='softmax'))"
      ],
      "execution_count": 0,
      "outputs": []
    },
    {
      "cell_type": "code",
      "metadata": {
        "id": "DU0jRxeNEFlU",
        "colab_type": "code",
        "outputId": "3320d492-7430-4ede-fdb3-769de64374c8",
        "colab": {
          "base_uri": "https://localhost:8080/",
          "height": 468
        }
      },
      "source": [
        "model.summary()"
      ],
      "execution_count": 27,
      "outputs": [
        {
          "output_type": "stream",
          "text": [
            "Model: \"sequential\"\n",
            "_________________________________________________________________\n",
            "Layer (type)                 Output Shape              Param #   \n",
            "=================================================================\n",
            "conv2d (Conv2D)              (None, 28, 28, 16)        160       \n",
            "_________________________________________________________________\n",
            "max_pooling2d (MaxPooling2D) (None, 14, 14, 16)        0         \n",
            "_________________________________________________________________\n",
            "conv2d_1 (Conv2D)            (None, 14, 14, 32)        4640      \n",
            "_________________________________________________________________\n",
            "max_pooling2d_1 (MaxPooling2 (None, 7, 7, 32)          0         \n",
            "_________________________________________________________________\n",
            "conv2d_2 (Conv2D)            (None, 7, 7, 64)          18496     \n",
            "_________________________________________________________________\n",
            "max_pooling2d_2 (MaxPooling2 (None, 3, 3, 64)          0         \n",
            "_________________________________________________________________\n",
            "flatten (Flatten)            (None, 576)               0         \n",
            "_________________________________________________________________\n",
            "dense (Dense)                (None, 54)                31158     \n",
            "_________________________________________________________________\n",
            "dense_1 (Dense)              (None, 10)                550       \n",
            "=================================================================\n",
            "Total params: 55,004\n",
            "Trainable params: 55,004\n",
            "Non-trainable params: 0\n",
            "_________________________________________________________________\n"
          ],
          "name": "stdout"
        }
      ]
    },
    {
      "cell_type": "code",
      "metadata": {
        "id": "BRQFxQxLGvmh",
        "colab_type": "code",
        "colab": {}
      },
      "source": [
        "model.compile(loss='mse', optimizer=SGD(lr=0.05),\n",
        "             metrics=['accuracy'])"
      ],
      "execution_count": 0,
      "outputs": []
    },
    {
      "cell_type": "code",
      "metadata": {
        "id": "fgxMflDl04tn",
        "colab_type": "code",
        "colab": {
          "base_uri": "https://localhost:8080/",
          "height": 381
        },
        "outputId": "2f7e8dc0-6543-4239-f159-d822502c4062"
      },
      "source": [
        "model.fit(x_train, y_train, batch_size=500, epochs=10)"
      ],
      "execution_count": 34,
      "outputs": [
        {
          "output_type": "stream",
          "text": [
            "Epoch 1/10\n",
            "120/120 [==============================] - 40s 329ms/step - loss: 0.0186 - accuracy: 0.8730\n",
            "Epoch 2/10\n",
            "120/120 [==============================] - 39s 327ms/step - loss: 0.0181 - accuracy: 0.8768\n",
            "Epoch 3/10\n",
            "120/120 [==============================] - 39s 327ms/step - loss: 0.0177 - accuracy: 0.8801\n",
            "Epoch 4/10\n",
            "120/120 [==============================] - 39s 327ms/step - loss: 0.0175 - accuracy: 0.8821\n",
            "Epoch 5/10\n",
            "120/120 [==============================] - 39s 325ms/step - loss: 0.0172 - accuracy: 0.8840\n",
            "Epoch 6/10\n",
            "120/120 [==============================] - 39s 324ms/step - loss: 0.0170 - accuracy: 0.8859\n",
            "Epoch 7/10\n",
            "120/120 [==============================] - 39s 325ms/step - loss: 0.0167 - accuracy: 0.8873\n",
            "Epoch 8/10\n",
            "120/120 [==============================] - 39s 327ms/step - loss: 0.0166 - accuracy: 0.8889\n",
            "Epoch 9/10\n",
            "120/120 [==============================] - 39s 327ms/step - loss: 0.0164 - accuracy: 0.8902\n",
            "Epoch 10/10\n",
            "120/120 [==============================] - 39s 327ms/step - loss: 0.0161 - accuracy: 0.8911\n"
          ],
          "name": "stdout"
        },
        {
          "output_type": "execute_result",
          "data": {
            "text/plain": [
              "<tensorflow.python.keras.callbacks.History at 0x7f1857a97898>"
            ]
          },
          "metadata": {
            "tags": []
          },
          "execution_count": 34
        }
      ]
    },
    {
      "cell_type": "code",
      "metadata": {
        "id": "4BETsaj1HMTe",
        "colab_type": "code",
        "outputId": "d41f6021-42dd-4ee0-ec21-a01091e10260",
        "colab": {
          "base_uri": "https://localhost:8080/",
          "height": 89
        }
      },
      "source": [
        "result = model.predict_classes(x_test)"
      ],
      "execution_count": 35,
      "outputs": [
        {
          "output_type": "stream",
          "text": [
            "WARNING:tensorflow:From <ipython-input-35-63af5bb2f9b6>:1: Sequential.predict_classes (from tensorflow.python.keras.engine.sequential) is deprecated and will be removed after 2021-01-01.\n",
            "Instructions for updating:\n",
            "Please use instead:* `np.argmax(model.predict(x), axis=-1)`,   if your model does multi-class classification   (e.g. if it uses a `softmax` last-layer activation).* `(model.predict(x) > 0.5).astype(\"int32\")`,   if your model does binary classification   (e.g. if it uses a `sigmoid` last-layer activation).\n"
          ],
          "name": "stdout"
        }
      ]
    },
    {
      "cell_type": "code",
      "metadata": {
        "id": "W6nLwbpYH_AK",
        "colab_type": "code",
        "colab": {}
      },
      "source": [
        "def my_predict(n):\n",
        "    print(' CNN預測', result[n])\n",
        "    X = x_test[n].reshape(28,28)\n",
        "    plt.imshow(X, cmap='Greys')"
      ],
      "execution_count": 0,
      "outputs": []
    },
    {
      "cell_type": "code",
      "metadata": {
        "id": "SSHjiS1KIFod",
        "colab_type": "code",
        "colab": {}
      },
      "source": [
        "from ipywidgets import interact_manual"
      ],
      "execution_count": 0,
      "outputs": []
    },
    {
      "cell_type": "code",
      "metadata": {
        "id": "_TtYUSfnIqgt",
        "colab_type": "code",
        "colab": {
          "base_uri": "https://localhost:8080/",
          "height": 364,
          "referenced_widgets": [
            "06a06321257c4fac8e87b7e280dfae9a",
            "26e77757142d49c5a60f68078ecd71ae",
            "a5de12d8624547e6920b502f0e3a661b",
            "efe2a88d1de543b7aefb7040794ec0fc",
            "4f27c1c028c44f86ac7ca2b5b7717aac",
            "7789364e68574302977f6a6f3b95e0c1",
            "0a4e80d4d3984ed1a1e97c51a2b8be8e",
            "e0a3a65348e34988afa80b8cafa9588d",
            "f6b1740af78144afa5a0f303c2138256",
            "d860059af8a74bdcbd20b20da86d04cc"
          ]
        },
        "outputId": "e1606d22-cdd9-4803-9ff8-e8f734509d85"
      },
      "source": [
        "interact_manual(my_predict, n=(0, 500))"
      ],
      "execution_count": 38,
      "outputs": [
        {
          "output_type": "display_data",
          "data": {
            "application/vnd.jupyter.widget-view+json": {
              "model_id": "06a06321257c4fac8e87b7e280dfae9a",
              "version_minor": 0,
              "version_major": 2
            },
            "text/plain": [
              "interactive(children=(IntSlider(value=250, description='n', max=500), Button(description='Run Interact', style…"
            ]
          },
          "metadata": {
            "tags": []
          }
        },
        {
          "output_type": "execute_result",
          "data": {
            "text/plain": [
              "<function __main__.my_predict>"
            ]
          },
          "metadata": {
            "tags": []
          },
          "execution_count": 38
        }
      ]
    },
    {
      "cell_type": "code",
      "metadata": {
        "id": "_yqgk8rf3-_s",
        "colab_type": "code",
        "colab": {
          "base_uri": "https://localhost:8080/",
          "height": 35
        },
        "outputId": "abac3c5f-bce1-4272-e8fd-86948804dc66"
      },
      "source": [
        "score = model.evaluate(x_test, y_test)"
      ],
      "execution_count": 40,
      "outputs": [
        {
          "output_type": "stream",
          "text": [
            "313/313 [==============================] - 3s 11ms/step - loss: 0.0194 - accuracy: 0.8668\n"
          ],
          "name": "stdout"
        }
      ]
    },
    {
      "cell_type": "code",
      "metadata": {
        "id": "2A2Edqvk4I8C",
        "colab_type": "code",
        "colab": {}
      },
      "source": [
        "loss, acc = score"
      ],
      "execution_count": 0,
      "outputs": []
    },
    {
      "cell_type": "code",
      "metadata": {
        "id": "IQFoa3NA4ZjN",
        "colab_type": "code",
        "colab": {
          "base_uri": "https://localhost:8080/",
          "height": 35
        },
        "outputId": "3e01f2f5-9097-48e0-b94a-f83d855910af"
      },
      "source": [
        "print('測試資料的正確率為', acc)"
      ],
      "execution_count": 42,
      "outputs": [
        {
          "output_type": "stream",
          "text": [
            "測試資料的正確率為 0.8668000102043152\n"
          ],
          "name": "stdout"
        }
      ]
    },
    {
      "cell_type": "code",
      "metadata": {
        "id": "zA9oIhn24bSW",
        "colab_type": "code",
        "colab": {}
      },
      "source": [
        "model.compile(loss='mse', optimizer=SGD(lr=0.5),\n",
        "             metrics=['accuracy'])"
      ],
      "execution_count": 0,
      "outputs": []
    },
    {
      "cell_type": "code",
      "metadata": {
        "id": "0zC1ORBS4lh0",
        "colab_type": "code",
        "colab": {
          "base_uri": "https://localhost:8080/",
          "height": 381
        },
        "outputId": "e6cfe76a-af4e-49ab-fc7f-c76d7371016e"
      },
      "source": [
        "model.fit(x_train, y_train, batch_size=500, epochs=10)"
      ],
      "execution_count": 44,
      "outputs": [
        {
          "output_type": "stream",
          "text": [
            "Epoch 1/10\n",
            "120/120 [==============================] - 39s 324ms/step - loss: 0.0555 - accuracy: 0.6465\n",
            "Epoch 2/10\n",
            "120/120 [==============================] - 39s 324ms/step - loss: 0.0198 - accuracy: 0.8643\n",
            "Epoch 3/10\n",
            "120/120 [==============================] - 39s 324ms/step - loss: 0.0183 - accuracy: 0.8743\n",
            "Epoch 4/10\n",
            "120/120 [==============================] - 39s 323ms/step - loss: 0.0170 - accuracy: 0.8841\n",
            "Epoch 5/10\n",
            "120/120 [==============================] - 39s 324ms/step - loss: 0.0159 - accuracy: 0.8923\n",
            "Epoch 6/10\n",
            "120/120 [==============================] - 39s 324ms/step - loss: 0.0152 - accuracy: 0.8978\n",
            "Epoch 7/10\n",
            "120/120 [==============================] - 39s 324ms/step - loss: 0.0147 - accuracy: 0.9016\n",
            "Epoch 8/10\n",
            "120/120 [==============================] - 39s 323ms/step - loss: 0.0142 - accuracy: 0.9048\n",
            "Epoch 9/10\n",
            "120/120 [==============================] - 39s 324ms/step - loss: 0.0137 - accuracy: 0.9083\n",
            "Epoch 10/10\n",
            "120/120 [==============================] - 39s 325ms/step - loss: 0.0135 - accuracy: 0.9102\n"
          ],
          "name": "stdout"
        },
        {
          "output_type": "execute_result",
          "data": {
            "text/plain": [
              "<tensorflow.python.keras.callbacks.History at 0x7f185cfb0160>"
            ]
          },
          "metadata": {
            "tags": []
          },
          "execution_count": 44
        }
      ]
    },
    {
      "cell_type": "code",
      "metadata": {
        "id": "hUuRA3Xk4ohF",
        "colab_type": "code",
        "colab": {
          "base_uri": "https://localhost:8080/",
          "height": 35
        },
        "outputId": "35609ee0-6b3d-4ca1-8e27-d7414614da79"
      },
      "source": [
        "score = model.evaluate(x_test, y_test)"
      ],
      "execution_count": 45,
      "outputs": [
        {
          "output_type": "stream",
          "text": [
            "313/313 [==============================] - 3s 11ms/step - loss: 0.0175 - accuracy: 0.8813\n"
          ],
          "name": "stdout"
        }
      ]
    },
    {
      "cell_type": "code",
      "metadata": {
        "id": "WmT6W-c56T82",
        "colab_type": "code",
        "colab": {}
      },
      "source": [
        "loss, acc = score"
      ],
      "execution_count": 0,
      "outputs": []
    },
    {
      "cell_type": "code",
      "metadata": {
        "id": "pJPEBNgz6XIq",
        "colab_type": "code",
        "colab": {
          "base_uri": "https://localhost:8080/",
          "height": 35
        },
        "outputId": "5d69d08e-2c73-4a03-c9d4-7000a09a5540"
      },
      "source": [
        "print('測試資料的正確率為', acc)"
      ],
      "execution_count": 47,
      "outputs": [
        {
          "output_type": "stream",
          "text": [
            "測試資料的正確率為 0.8812999725341797\n"
          ],
          "name": "stdout"
        }
      ]
    },
    {
      "cell_type": "code",
      "metadata": {
        "id": "yPueDy0a6YvZ",
        "colab_type": "code",
        "colab": {}
      },
      "source": [
        "model.compile(loss='mse', optimizer=SGD(lr=0.9),\n",
        "             metrics=['accuracy'])"
      ],
      "execution_count": 0,
      "outputs": []
    },
    {
      "cell_type": "code",
      "metadata": {
        "id": "DhFaXvOj7mPp",
        "colab_type": "code",
        "colab": {
          "base_uri": "https://localhost:8080/",
          "height": 381
        },
        "outputId": "28fd2b8c-1883-41db-e3be-c86de802a8c2"
      },
      "source": [
        "model.fit(x_train, y_train, batch_size=500, epochs=10)"
      ],
      "execution_count": 49,
      "outputs": [
        {
          "output_type": "stream",
          "text": [
            "Epoch 1/10\n",
            "120/120 [==============================] - 39s 323ms/step - loss: 0.0172 - accuracy: 0.8834\n",
            "Epoch 2/10\n",
            "120/120 [==============================] - 39s 322ms/step - loss: 0.0148 - accuracy: 0.9003\n",
            "Epoch 3/10\n",
            "120/120 [==============================] - 39s 323ms/step - loss: 0.0140 - accuracy: 0.9061\n",
            "Epoch 4/10\n",
            "120/120 [==============================] - 39s 322ms/step - loss: 0.0135 - accuracy: 0.9097\n",
            "Epoch 5/10\n",
            "120/120 [==============================] - 39s 322ms/step - loss: 0.0129 - accuracy: 0.9143\n",
            "Epoch 6/10\n",
            "120/120 [==============================] - 39s 322ms/step - loss: 0.0128 - accuracy: 0.9149\n",
            "Epoch 7/10\n",
            "120/120 [==============================] - 39s 323ms/step - loss: 0.0121 - accuracy: 0.9197\n",
            "Epoch 8/10\n",
            "120/120 [==============================] - 39s 323ms/step - loss: 0.0119 - accuracy: 0.9219\n",
            "Epoch 9/10\n",
            "120/120 [==============================] - 39s 323ms/step - loss: 0.0116 - accuracy: 0.9240\n",
            "Epoch 10/10\n",
            "120/120 [==============================] - 39s 323ms/step - loss: 0.0113 - accuracy: 0.9265\n"
          ],
          "name": "stdout"
        },
        {
          "output_type": "execute_result",
          "data": {
            "text/plain": [
              "<tensorflow.python.keras.callbacks.History at 0x7f185c6d7828>"
            ]
          },
          "metadata": {
            "tags": []
          },
          "execution_count": 49
        }
      ]
    },
    {
      "cell_type": "code",
      "metadata": {
        "id": "OthR7zwC7ogh",
        "colab_type": "code",
        "colab": {
          "base_uri": "https://localhost:8080/",
          "height": 35
        },
        "outputId": "36d490ce-f39d-4085-8f93-41fe0ecbdba8"
      },
      "source": [
        "score = model.evaluate(x_test, y_test)"
      ],
      "execution_count": 50,
      "outputs": [
        {
          "output_type": "stream",
          "text": [
            "313/313 [==============================] - 3s 11ms/step - loss: 0.0164 - accuracy: 0.8904\n"
          ],
          "name": "stdout"
        }
      ]
    },
    {
      "cell_type": "code",
      "metadata": {
        "id": "UINcrVFI9NaM",
        "colab_type": "code",
        "colab": {}
      },
      "source": [
        "loss, acc = score"
      ],
      "execution_count": 0,
      "outputs": []
    },
    {
      "cell_type": "code",
      "metadata": {
        "id": "BHAuvM2-9Q49",
        "colab_type": "code",
        "colab": {
          "base_uri": "https://localhost:8080/",
          "height": 35
        },
        "outputId": "cee87612-331c-4596-c758-bbbfcc146239"
      },
      "source": [
        "print('測試資料的正確率為', acc)"
      ],
      "execution_count": 53,
      "outputs": [
        {
          "output_type": "stream",
          "text": [
            "測試資料的正確率為 0.8903999924659729\n"
          ],
          "name": "stdout"
        }
      ]
    },
    {
      "cell_type": "markdown",
      "metadata": {
        "id": "zmzTJFpd9Xpx",
        "colab_type": "text"
      },
      "source": [
        "經過2次的重複訓練，更改lr值會影響訓練結果的準確度，數值上調似乎能提高準確率"
      ]
    },
    {
      "cell_type": "code",
      "metadata": {
        "id": "6oHkULC2-JvG",
        "colab_type": "code",
        "colab": {}
      },
      "source": [
        ""
      ],
      "execution_count": 0,
      "outputs": []
    }
  ]
}