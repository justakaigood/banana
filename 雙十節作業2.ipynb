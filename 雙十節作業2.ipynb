{
 "cells": [
  {
   "cell_type": "markdown",
   "metadata": {},
   "source": [
    "數字擲筊"
   ]
  },
  {
   "cell_type": "code",
   "execution_count": 1,
   "metadata": {},
   "outputs": [],
   "source": [
    "%matplotlib inline\n",
    "\n",
    "import numpy as np\n",
    "import matplotlib.pyplot as plt\n",
    "import pandas as pd"
   ]
  },
  {
   "cell_type": "code",
   "execution_count": 2,
   "metadata": {},
   "outputs": [
    {
     "name": "stdout",
     "output_type": "stream",
     "text": [
      "輸入數字1到3:1\n",
      "繼續輸入數字:3\n",
      "哭哭喔\n"
     ]
    }
   ],
   "source": [
    "import random\n",
    "r=(random.randint(1,4))\n",
    "x=input(\"輸入數字1到3:\")\n",
    "if float(x)==r:\n",
    "    print(\"哭哭喔\")\n",
    "else:\n",
    "    x=input(\"繼續輸入數字:\")\n",
    "if float(x)==r:\n",
    "     print(\"哭哭喔\")\n",
    "else:\n",
    "    print(\"你真的是很棒\")\n"
   ]
  }
 ],
 "metadata": {
  "kernelspec": {
   "display_name": "Python 3",
   "language": "python",
   "name": "python3"
  },
  "language_info": {
   "codemirror_mode": {
    "name": "ipython",
    "version": 3
   },
   "file_extension": ".py",
   "mimetype": "text/x-python",
   "name": "python",
   "nbconvert_exporter": "python",
   "pygments_lexer": "ipython3",
   "version": "3.7.3"
  }
 },
 "nbformat": 4,
 "nbformat_minor": 2
}
