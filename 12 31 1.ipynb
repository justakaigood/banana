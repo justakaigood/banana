{
 "cells": [
  {
   "cell_type": "markdown",
   "metadata": {},
   "source": [
    "數字猜起來"
   ]
  },
  {
   "cell_type": "code",
   "execution_count": 1,
   "metadata": {},
   "outputs": [],
   "source": [
    "%matplotlib inline\n",
    "\n",
    "import numpy as np\n",
    "import matplotlib.pyplot as plt\n",
    "import pandas as pd\n",
    "import random"
   ]
  },
  {
   "cell_type": "code",
   "execution_count": 2,
   "metadata": {},
   "outputs": [
    {
     "name": "stdout",
     "output_type": "stream",
     "text": [
      "最小值:23\n",
      "最大值:5325\n"
     ]
    }
   ],
   "source": [
    "rang1 = int(input(\"最小值:\"))\n",
    "rang2 = int(input(\"最大值:\"))"
   ]
  },
  {
   "cell_type": "code",
   "execution_count": 3,
   "metadata": {},
   "outputs": [],
   "source": [
    "num = random.randint(rang1,rang2)\n",
    "guess = \"guess\""
   ]
  },
  {
   "cell_type": "code",
   "execution_count": null,
   "metadata": {},
   "outputs": [
    {
     "name": "stdout",
     "output_type": "stream",
     "text": [
      "數字遊戲\n",
      "猜的數字：342\n",
      "較小\n",
      "猜的數字：54\n",
      "較小\n",
      "猜的數字：33\n",
      "較小\n",
      "猜的數字：22\n",
      "較小\n",
      "猜的數字：11\n",
      "較小\n",
      "猜的數字：4\n",
      "較小\n",
      "猜的數字：436\n",
      "較小\n",
      "猜的數字：3466\n",
      "較小\n",
      "猜的數字：5000\n",
      "較大\n",
      "猜的數字：4456\n",
      "較小\n"
     ]
    }
   ],
   "source": [
    "print(\"數字遊戲\")\n",
    "i = 0\n",
    "while guess != num:\n",
    "    i += 1\n",
    "    guess = int(input(\"猜的數字：\"))\n",
    "\n",
    "    if guess == num:\n",
    "        print(\"答對了\")\n",
    "    elif guess < num:\n",
    "        print(\"較小\")\n",
    "    else:\n",
    "        print(\"較大\")\n",
    "\n",
    "print(\"你總共猜了%d\" %i + \"次\",end = '')\n",
    "print(\"母湯喔\")"
   ]
  }
 ],
 "metadata": {
  "kernelspec": {
   "display_name": "Python 3",
   "language": "python",
   "name": "python3"
  },
  "language_info": {
   "codemirror_mode": {
    "name": "ipython",
    "version": 3
   },
   "file_extension": ".py",
   "mimetype": "text/x-python",
   "name": "python",
   "nbconvert_exporter": "python",
   "pygments_lexer": "ipython3",
   "version": "3.7.3"
  }
 },
 "nbformat": 4,
 "nbformat_minor": 2
}
