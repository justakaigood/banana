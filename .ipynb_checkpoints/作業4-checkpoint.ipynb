{
 "cells": [
  {
   "cell_type": "code",
   "execution_count": 1,
   "metadata": {},
   "outputs": [],
   "source": [
    "%matplotlib inline\n",
    "import numpy as np\n",
    "import matplotlib.pyplot as plt\n",
    "import pandas as pd"
   ]
  },
  {
   "cell_type": "code",
   "execution_count": 2,
   "metadata": {},
   "outputs": [],
   "source": [
    "from numpy.random import randint"
   ]
  },
  {
   "cell_type": "code",
   "execution_count": 3,
   "metadata": {},
   "outputs": [
    {
     "name": "stdout",
     "output_type": "stream",
     "text": [
      "2\n",
      "8\n",
      "7\n",
      "9\n",
      "1\n",
      "3\n",
      "2\n",
      "3\n",
      "1\n",
      "9\n"
     ]
    }
   ],
   "source": [
    "for i in range(10):\n",
    "    print(randint(1,10))"
   ]
  },
  {
   "cell_type": "code",
   "execution_count": 4,
   "metadata": {},
   "outputs": [
    {
     "name": "stdout",
     "output_type": "stream",
     "text": [
      "5,6,8,8,7,2,3,7,4,3,"
     ]
    }
   ],
   "source": [
    "for i in range(10):\n",
    "    print(randint(1,10),end=',')"
   ]
  },
  {
   "cell_type": "code",
   "execution_count": 13,
   "metadata": {},
   "outputs": [],
   "source": [
    "words='''\n",
    "dfj\n",
    "aasf\n",
    "afdefa\n",
    "afefa\n",
    "afdf\n",
    "sgs\n",
    "sgrfg\n",
    "hjh\n",
    "hbk\n",
    "njbjb '''"
   ]
  },
  {
   "cell_type": "code",
   "execution_count": 15,
   "metadata": {},
   "outputs": [
    {
     "data": {
      "text/plain": [
       "'\\ndfj\\naasf\\nafdefa\\nafefa\\nafdf\\nsgs\\nsgrfg\\nhjh\\nhbk\\nnjbjb '"
      ]
     },
     "execution_count": 15,
     "metadata": {},
     "output_type": "execute_result"
    }
   ],
   "source": [
    "words"
   ]
  },
  {
   "cell_type": "code",
   "execution_count": 16,
   "metadata": {},
   "outputs": [],
   "source": [
    "phrase=words.split('\\n')"
   ]
  },
  {
   "cell_type": "code",
   "execution_count": 18,
   "metadata": {},
   "outputs": [],
   "source": [
    "from numpy.random import choice"
   ]
  },
  {
   "cell_type": "code",
   "execution_count": 19,
   "metadata": {},
   "outputs": [
    {
     "data": {
      "text/plain": [
       "array(['', 'hjh', 'sgs', 'dfj', ''], dtype='<U6')"
      ]
     },
     "execution_count": 19,
     "metadata": {},
     "output_type": "execute_result"
    }
   ],
   "source": [
    "choice(phrase,5)"
   ]
  },
  {
   "cell_type": "code",
   "execution_count": 22,
   "metadata": {},
   "outputs": [
    {
     "data": {
      "text/plain": [
       "['\\n',\n",
       " 'd',\n",
       " 'f',\n",
       " 'j',\n",
       " '\\n',\n",
       " 'a',\n",
       " 'a',\n",
       " 's',\n",
       " 'f',\n",
       " '\\n',\n",
       " 'a',\n",
       " 'f',\n",
       " 'd',\n",
       " 'e',\n",
       " 'f',\n",
       " 'a',\n",
       " '\\n',\n",
       " 'a',\n",
       " 'f',\n",
       " 'e',\n",
       " 'f',\n",
       " 'a',\n",
       " '\\n',\n",
       " 'a',\n",
       " 'f',\n",
       " 'd',\n",
       " 'f',\n",
       " '\\n',\n",
       " 's',\n",
       " 'g',\n",
       " 's',\n",
       " '\\n',\n",
       " 's',\n",
       " 'g',\n",
       " 'r',\n",
       " 'f',\n",
       " 'g',\n",
       " '\\n',\n",
       " 'h',\n",
       " 'j',\n",
       " 'h',\n",
       " '\\n',\n",
       " 'h',\n",
       " 'b',\n",
       " 'k',\n",
       " '\\n',\n",
       " 'n',\n",
       " 'j',\n",
       " 'b',\n",
       " 'j',\n",
       " 'b',\n",
       " ' ']"
      ]
     },
     "execution_count": 22,
     "metadata": {},
     "output_type": "execute_result"
    }
   ],
   "source": [
    "list(words)"
   ]
  },
  {
   "cell_type": "code",
   "execution_count": null,
   "metadata": {},
   "outputs": [],
   "source": []
  }
 ],
 "metadata": {
  "kernelspec": {
   "display_name": "Python 3",
   "language": "python",
   "name": "python3"
  },
  "language_info": {
   "codemirror_mode": {
    "name": "ipython",
    "version": 3
   },
   "file_extension": ".py",
   "mimetype": "text/x-python",
   "name": "python",
   "nbconvert_exporter": "python",
   "pygments_lexer": "ipython3",
   "version": "3.7.3"
  }
 },
 "nbformat": 4,
 "nbformat_minor": 2
}
