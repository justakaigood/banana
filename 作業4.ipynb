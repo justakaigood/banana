{
 "cells": [
  {
   "cell_type": "code",
   "execution_count": 1,
   "metadata": {},
   "outputs": [],
   "source": [
    "%matplotlib inline\n",
    "import numpy as np\n",
    "import matplotlib.pyplot as plt\n",
    "import pandas as pd"
   ]
  },
  {
   "cell_type": "code",
   "execution_count": 2,
   "metadata": {},
   "outputs": [],
   "source": [
    "from numpy.random import randint"
   ]
  },
  {
   "cell_type": "code",
   "execution_count": 3,
   "metadata": {},
   "outputs": [
    {
     "name": "stdout",
     "output_type": "stream",
     "text": [
      "2\n",
      "8\n",
      "7\n",
      "9\n",
      "1\n",
      "3\n",
      "2\n",
      "3\n",
      "1\n",
      "9\n"
     ]
    }
   ],
   "source": [
    "for i in range(10):\n",
    "    print(randint(1,10))"
   ]
  },
  {
   "cell_type": "code",
   "execution_count": 4,
   "metadata": {},
   "outputs": [
    {
     "name": "stdout",
     "output_type": "stream",
     "text": [
      "5,6,8,8,7,2,3,7,4,3,"
     ]
    }
   ],
   "source": [
    "for i in range(10):\n",
    "    print(randint(1,10),end=',')"
   ]
  },
  {
   "cell_type": "code",
   "execution_count": 27,
   "metadata": {},
   "outputs": [],
   "source": [
    "words='''\n",
    "撐著油紙傘，獨自\n",
    "\n",
    "彷徨在悠長、悠長\n",
    "\n",
    "又寂寥的雨巷\n",
    "\n",
    "我希望逢著\n",
    "\n",
    "一個丁香一樣地\n",
    "\n",
    "結著愁怨的姑娘\n",
    "\n",
    "她是有\n",
    "\n",
    "丁香一樣的顏色\n",
    "\n",
    "丁香一樣的芬芳\n",
    "\n",
    "丁香一樣的憂愁 '''"
   ]
  },
  {
   "cell_type": "code",
   "execution_count": 28,
   "metadata": {},
   "outputs": [
    {
     "data": {
      "text/plain": [
       "'\\n撐著油紙傘，獨自\\n\\n彷徨在悠長、悠長\\n\\n又寂寥的雨巷\\n\\n我希望逢著\\n\\n一個丁香一樣地\\n\\n結著愁怨的姑娘\\n\\n她是有\\n\\n丁香一樣的顏色\\n\\n丁香一樣的芬芳\\n\\n丁香一樣的憂愁 '"
      ]
     },
     "execution_count": 28,
     "metadata": {},
     "output_type": "execute_result"
    }
   ],
   "source": [
    "words"
   ]
  },
  {
   "cell_type": "code",
   "execution_count": 29,
   "metadata": {},
   "outputs": [],
   "source": [
    "phrase=words.split('\\n')"
   ]
  },
  {
   "cell_type": "code",
   "execution_count": 18,
   "metadata": {},
   "outputs": [],
   "source": [
    "from numpy.random import choice"
   ]
  },
  {
   "cell_type": "code",
   "execution_count": 30,
   "metadata": {},
   "outputs": [
    {
     "data": {
      "text/plain": [
       "array(['', '丁香一樣的顏色', '', '撐著油紙傘，獨自', ''], dtype='<U8')"
      ]
     },
     "execution_count": 30,
     "metadata": {},
     "output_type": "execute_result"
    }
   ],
   "source": [
    "choice(phrase,5)"
   ]
  },
  {
   "cell_type": "code",
   "execution_count": 31,
   "metadata": {},
   "outputs": [
    {
     "data": {
      "text/plain": [
       "['\\n',\n",
       " '撐',\n",
       " '著',\n",
       " '油',\n",
       " '紙',\n",
       " '傘',\n",
       " '，',\n",
       " '獨',\n",
       " '自',\n",
       " '\\n',\n",
       " '\\n',\n",
       " '彷',\n",
       " '徨',\n",
       " '在',\n",
       " '悠',\n",
       " '長',\n",
       " '、',\n",
       " '悠',\n",
       " '長',\n",
       " '\\n',\n",
       " '\\n',\n",
       " '又',\n",
       " '寂',\n",
       " '寥',\n",
       " '的',\n",
       " '雨',\n",
       " '巷',\n",
       " '\\n',\n",
       " '\\n',\n",
       " '我',\n",
       " '希',\n",
       " '望',\n",
       " '逢',\n",
       " '著',\n",
       " '\\n',\n",
       " '\\n',\n",
       " '一',\n",
       " '個',\n",
       " '丁',\n",
       " '香',\n",
       " '一',\n",
       " '樣',\n",
       " '地',\n",
       " '\\n',\n",
       " '\\n',\n",
       " '結',\n",
       " '著',\n",
       " '愁',\n",
       " '怨',\n",
       " '的',\n",
       " '姑',\n",
       " '娘',\n",
       " '\\n',\n",
       " '\\n',\n",
       " '她',\n",
       " '是',\n",
       " '有',\n",
       " '\\n',\n",
       " '\\n',\n",
       " '丁',\n",
       " '香',\n",
       " '一',\n",
       " '樣',\n",
       " '的',\n",
       " '顏',\n",
       " '色',\n",
       " '\\n',\n",
       " '\\n',\n",
       " '丁',\n",
       " '香',\n",
       " '一',\n",
       " '樣',\n",
       " '的',\n",
       " '芬',\n",
       " '芳',\n",
       " '\\n',\n",
       " '\\n',\n",
       " '丁',\n",
       " '香',\n",
       " '一',\n",
       " '樣',\n",
       " '的',\n",
       " '憂',\n",
       " '愁',\n",
       " ' ']"
      ]
     },
     "execution_count": 31,
     "metadata": {},
     "output_type": "execute_result"
    }
   ],
   "source": [
    "list(words)"
   ]
  },
  {
   "cell_type": "code",
   "execution_count": 32,
   "metadata": {},
   "outputs": [
    {
     "ename": "TypeError",
     "evalue": "'str' object is not callable",
     "output_type": "error",
     "traceback": [
      "\u001b[1;31m---------------------------------------------------------------------------\u001b[0m",
      "\u001b[1;31mTypeError\u001b[0m                                 Traceback (most recent call last)",
      "\u001b[1;32m<ipython-input-32-a6e6d7481288>\u001b[0m in \u001b[0;36m<module>\u001b[1;34m\u001b[0m\n\u001b[1;32m----> 1\u001b[1;33m \u001b[0ml\u001b[0m\u001b[1;33m=\u001b[0m\u001b[0mwords\u001b[0m\u001b[1;33m(\u001b[0m\u001b[1;36m3\u001b[0m\u001b[1;33m,\u001b[0m\u001b[1;36m6\u001b[0m\u001b[1;33m)\u001b[0m\u001b[1;33m\u001b[0m\u001b[1;33m\u001b[0m\u001b[0m\n\u001b[0m\u001b[0;32m      2\u001b[0m \u001b[1;32mfor\u001b[0m \u001b[0mi\u001b[0m \u001b[1;32min\u001b[0m \u001b[0mrange\u001b[0m\u001b[1;33m(\u001b[0m\u001b[0ml\u001b[0m\u001b[1;33m)\u001b[0m\u001b[1;33m:\u001b[0m\u001b[1;33m\u001b[0m\u001b[1;33m\u001b[0m\u001b[0m\n\u001b[0;32m      3\u001b[0m     \u001b[0mprint\u001b[0m\u001b[1;33m(\u001b[0m\u001b[1;34m'*'\u001b[0m\u001b[1;33m)\u001b[0m\u001b[1;33m\u001b[0m\u001b[1;33m\u001b[0m\u001b[0m\n",
      "\u001b[1;31mTypeError\u001b[0m: 'str' object is not callable"
     ]
    }
   ],
   "source": [
    "l=words(3,6)\n",
    "for i in range(l):\n",
    "    print('*')"
   ]
  },
  {
   "cell_type": "code",
   "execution_count": 41,
   "metadata": {},
   "outputs": [],
   "source": [
    "ll=randint(5,8)\n",
    "\n",
    "egg=choice(phrase,ll)"
   ]
  },
  {
   "cell_type": "code",
   "execution_count": 42,
   "metadata": {},
   "outputs": [
    {
     "data": {
      "text/plain": [
       "array(['', '一個丁香一樣地', '', '結著愁怨的姑娘', '', '', ''], dtype='<U8')"
      ]
     },
     "execution_count": 42,
     "metadata": {},
     "output_type": "execute_result"
    }
   ],
   "source": [
    "egg"
   ]
  },
  {
   "cell_type": "code",
   "execution_count": 43,
   "metadata": {},
   "outputs": [
    {
     "data": {
      "text/plain": [
       "' 一個丁香一樣地  結著愁怨的姑娘   '"
      ]
     },
     "execution_count": 43,
     "metadata": {},
     "output_type": "execute_result"
    }
   ],
   "source": [
    "' '.join(egg)"
   ]
  },
  {
   "cell_type": "code",
   "execution_count": 44,
   "metadata": {},
   "outputs": [
    {
     "name": "stdout",
     "output_type": "stream",
     "text": [
      "她是有\n",
      "丁香一樣的憂愁 彷徨在悠長、悠長\n",
      "一個丁香一樣地丁香一樣的芬芳彷徨在悠長、悠長\n"
     ]
    }
   ],
   "source": [
    "n=randint(3,5)\n",
    "for i in range(n):\n",
    "    k=randint(5,8)\n",
    "    egg=choice(phrase,k)\n",
    "    ham=''.join(egg)\n",
    "    print(ham)"
   ]
  },
  {
   "cell_type": "code",
   "execution_count": 45,
   "metadata": {},
   "outputs": [],
   "source": [
    "#2 3 5"
   ]
  },
  {
   "cell_type": "code",
   "execution_count": 46,
   "metadata": {},
   "outputs": [
    {
     "name": "stdout",
     "output_type": "stream",
     "text": [
      "The following commands were written to file `poem.py`:\n",
      "from numpy.random import randint\n",
      "for i in range(10):\n",
      "    print(randint(1,10))\n",
      "words=\"\"\n",
      "dfj\n",
      "aasf\n",
      "afdefa\n",
      "afefa\n",
      "afdf\n",
      "sgs\n",
      "sgrfg\n",
      "hjh\n",
      "hbk\n",
      "njbjb\n"
     ]
    }
   ],
   "source": [
    "%save \"poem.py\"2 3 5"
   ]
  },
  {
   "cell_type": "code",
   "execution_count": null,
   "metadata": {},
   "outputs": [],
   "source": []
  }
 ],
 "metadata": {
  "kernelspec": {
   "display_name": "Python 3",
   "language": "python",
   "name": "python3"
  },
  "language_info": {
   "codemirror_mode": {
    "name": "ipython",
    "version": 3
   },
   "file_extension": ".py",
   "mimetype": "text/x-python",
   "name": "python",
   "nbconvert_exporter": "python",
   "pygments_lexer": "ipython3",
   "version": "3.7.3"
  }
 },
 "nbformat": 4,
 "nbformat_minor": 2
}
