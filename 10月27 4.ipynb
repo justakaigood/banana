{
 "cells": [
  {
   "cell_type": "markdown",
   "metadata": {},
   "source": [
    "同乘計算機4乘1"
   ]
  },
  {
   "cell_type": "code",
   "execution_count": 1,
   "metadata": {},
   "outputs": [],
   "source": [
    "%matplotlib inline\n",
    "\n",
    "import numpy as np\n",
    "import matplotlib.pyplot as plt\n",
    "import pandas as pd"
   ]
  },
  {
   "cell_type": "code",
   "execution_count": 23,
   "metadata": {},
   "outputs": [
    {
     "name": "stdout",
     "output_type": "stream",
     "text": [
      "數字1437\n",
      "數字22472\n",
      "數字3426\n",
      "數字4246\n",
      "[437, 2472, 426, 246]\n",
      "數字57422\n"
     ]
    },
    {
     "data": {
      "text/plain": [
       "array([ 3243414, 18347184,  3161772,  1825812])"
      ]
     },
     "execution_count": 23,
     "metadata": {},
     "output_type": "execute_result"
    }
   ],
   "source": [
    "a=input(\"數字1\")\n",
    "b=input(\"數字2\")\n",
    "c=input(\"數字3\")\n",
    "d=input(\"數字4\")\n",
    "r=[int(a),int(b),int(c),int(d)]\n",
    "arr_r=np.array(r)\n",
    "print(r)\n",
    "e=input(\"數字5\")\n",
    "arr_r*int(e)\n",
    "\n"
   ]
  },
  {
   "cell_type": "code",
   "execution_count": null,
   "metadata": {},
   "outputs": [],
   "source": []
  }
 ],
 "metadata": {
  "kernelspec": {
   "display_name": "Python 3",
   "language": "python",
   "name": "python3"
  },
  "language_info": {
   "codemirror_mode": {
    "name": "ipython",
    "version": 3
   },
   "file_extension": ".py",
   "mimetype": "text/x-python",
   "name": "python",
   "nbconvert_exporter": "python",
   "pygments_lexer": "ipython3",
   "version": "3.7.3"
  }
 },
 "nbformat": 4,
 "nbformat_minor": 2
}
