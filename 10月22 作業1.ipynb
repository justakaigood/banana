{
 "cells": [
  {
   "cell_type": "markdown",
   "metadata": {},
   "source": [
    "某國國旗???"
   ]
  },
  {
   "cell_type": "code",
   "execution_count": 1,
   "metadata": {},
   "outputs": [],
   "source": [
    "%matplotlib inline\n",
    "\n",
    "import numpy as np\n",
    "import matplotlib.pyplot as plt\n",
    "import pandas as pd"
   ]
  },
  {
   "cell_type": "code",
   "execution_count": 59,
   "metadata": {},
   "outputs": [
    {
     "data": {
      "text/plain": [
       "[<matplotlib.lines.Line2D at 0x1b659902e48>]"
      ]
     },
     "execution_count": 59,
     "metadata": {},
     "output_type": "execute_result"
    },
    {
     "data": {
      "image/png": "[encoded data removed]",
      "text/plain": [
       "<Figure size 432x288 with 1 Axes>"
      ]
     },
     "metadata": {
      "needs_background": "light"
     },
     "output_type": "display_data"
    }
   ],
   "source": [
    "plt.plot([10,10,20,20,10],[10,20,20,10,10],color=\"red\")\n",
    "plt.plot([10.01,10.01,14,14,10.01],[16,19.99,19.99,16,16],color=\"blue\")\n",
    "plt.scatter([10.5,11,11.5,12,12.5,13,13.5],[16.5,16.5,16.5,16.5,16.5,16.5,16.5,],color=\"black\")\n",
    "plt.scatter([10.5,11,11.5,12,12.5,13,13.5],[17,17,17,17,17,17,17,],color=\"black\")\n",
    "plt.scatter([10.5,11,11.5,12,12.5,13,13.5],[17.5,17.5,17.5,17.5,17.5,17.5,17.5,],color=\"black\")\n",
    "plt.scatter([10.5,11,11.5,12,12.5,13,13.5],[18,18,18,18,18,18,18,],color=\"black\")\n",
    "plt.scatter([10.5,11,11.5,12,12.5,13,13.5],[18.5,18.5,18.5,18.5,18.5,18.5,18.5,],color=\"black\")\n",
    "plt.scatter([10.5,11,11.5,12,12.5,13,13.5],[19,19,19,19,19,19,19,],color=\"black\")\n",
    "plt.scatter([10.5,11,11.5,12,12.5,13,13.5],[19.5,19.5,19.5,19.5,19.5,19.5,19.5,],color=\"black\")\n",
    "plt.plot([10,20],[11,11],color=\"red\")\n",
    "plt.plot([10,20],[13,13],color=\"red\")\n",
    "plt.plot([10,20],[15,15],color=\"red\")\n",
    "plt.plot([14.1,20],[17,17],color=\"red\")\n",
    "plt.plot([14.1,20],[19,19],color=\"red\")"
   ]
  },
  {
   "cell_type": "code",
   "execution_count": null,
   "metadata": {},
   "outputs": [],
   "source": []
  }
 ],
 "metadata": {
  "kernelspec": {
   "display_name": "Python 3",
   "language": "python",
   "name": "python3"
  },
  "language_info": {
   "codemirror_mode": {
    "name": "ipython",
    "version": 3
   },
   "file_extension": ".py",
   "mimetype": "text/x-python",
   "name": "python",
   "nbconvert_exporter": "python",
   "pygments_lexer": "ipython3",
   "version": "3.7.3"
  }
 },
 "nbformat": 4,
 "nbformat_minor": 2
}
