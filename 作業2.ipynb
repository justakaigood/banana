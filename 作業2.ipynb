{
 "cells": [
  {
   "cell_type": "code",
   "execution_count": 1,
   "metadata": {},
   "outputs": [
    {
     "name": "stdout",
     "output_type": "stream",
     "text": [
      " (V●ᴥ●V):巨錘瑞斯\n",
      "(V●ᴥ●V):叔叔開剁\n",
      " (V●ᴥ●V):這到底甚麼閃現\n",
      "(V●ᴥ●V):喔齁齁齁齁\n",
      " (V●ᴥ●V):欸你過來一下\n",
      "(V●ᴥ●V):老子瘋狗的外號10歲就有了\n",
      " (V●ᴥ●V):AAAAA\n",
      "(V●ᴥ●V):瑞斯一打三!!!!!\n"
     ]
    }
   ],
   "source": [
    "msg=\"\"\n",
    "while(msg!=\"AAAAA\"):\n",
    "    msg=input(\" (V●ᴥ●V):\")\n",
    "    if(\"巨錘瑞斯\"in msg):\n",
    "        print(\"(V●ᴥ●V):叔叔開剁\")\n",
    "    elif(\"這到底甚麼閃現\"in msg):\n",
    "        print(\"(V●ᴥ●V):喔齁齁齁齁\")\n",
    "    elif(\"AAAAA\"in msg):\n",
    "        print(\"(V●ᴥ●V):瑞斯一打三!!!!!\")\n",
    "    else:\n",
    "        print(\"(V●ᴥ●V):老子瘋狗的外號10歲就有了\")"
   ]
  },
  {
   "cell_type": "code",
   "execution_count": null,
   "metadata": {},
   "outputs": [],
   "source": []
  }
 ],
 "metadata": {
  "kernelspec": {
   "display_name": "Python 3",
   "language": "python",
   "name": "python3"
  },
  "language_info": {
   "codemirror_mode": {
    "name": "ipython",
    "version": 3
   },
   "file_extension": ".py",
   "mimetype": "text/x-python",
   "name": "python",
   "nbconvert_exporter": "python",
   "pygments_lexer": "ipython3",
   "version": "3.7.3"
  }
 },
 "nbformat": 4,
 "nbformat_minor": 2
}
