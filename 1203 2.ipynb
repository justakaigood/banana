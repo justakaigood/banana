{
 "cells": [
  {
   "cell_type": "code",
   "execution_count": 1,
   "metadata": {},
   "outputs": [],
   "source": [
    "%matplotlib inline\n",
    "\n",
    "import numpy as np\n",
    "import matplotlib.pyplot as plt\n",
    "import pandas as pd"
   ]
  },
  {
   "cell_type": "code",
   "execution_count": 2,
   "metadata": {},
   "outputs": [
    {
     "data": {
      "text/plain": [
       "''"
      ]
     },
     "execution_count": 2,
     "metadata": {},
     "output_type": "execute_result"
    }
   ],
   "source": [
    "import tkinter as tk \n",
    "window = tk.Tk()\n",
    "window.title('1203 2')\n",
    "window.geometry('500x500')"
   ]
  },
  {
   "cell_type": "code",
   "execution_count": 3,
   "metadata": {},
   "outputs": [],
   "source": [
    "l = tk.Label(window, bg='yellow', width=100, text='起床了嗎',font=('Arial', 48),height=2)\n",
    "l.pack()"
   ]
  },
  {
   "cell_type": "code",
   "execution_count": 4,
   "metadata": {},
   "outputs": [],
   "source": [
    "def print_selection():\n",
    "    if (var1.get() == 1) & (var2.get() == 0):    \n",
    "        l.config(text='早安 ')\n",
    "    elif (var1.get() == 0) & (var2.get() == 1):   \n",
    "        l.config(text='午安')\n",
    "    elif (var1.get() == 0) & (var2.get() == 0):   \n",
    "        l.config(text='起床了嗎')\n",
    "    else:\n",
    "        l.config(text='並沒有')        "
   ]
  },
  {
   "cell_type": "code",
   "execution_count": 5,
   "metadata": {},
   "outputs": [],
   "source": [
    "var1 = tk.IntVar()  \n",
    "var2 = tk.IntVar()\n",
    "c1 = tk.Checkbutton(window, text='早上起床',variable=var1, onvalue=1, offvalue=0, command=print_selection)    \n",
    "c1.pack()\n",
    "c2 = tk.Checkbutton(window, text='下午起床',variable=var2, onvalue=1, offvalue=0, command=print_selection)\n",
    "c2.pack()"
   ]
  },
  {
   "cell_type": "code",
   "execution_count": 6,
   "metadata": {},
   "outputs": [],
   "source": [
    "window.mainloop()"
   ]
  },
  {
   "cell_type": "code",
   "execution_count": null,
   "metadata": {},
   "outputs": [],
   "source": []
  }
 ],
 "metadata": {
  "kernelspec": {
   "display_name": "Python 3",
   "language": "python",
   "name": "python3"
  },
  "language_info": {
   "codemirror_mode": {
    "name": "ipython",
    "version": 3
   },
   "file_extension": ".py",
   "mimetype": "text/x-python",
   "name": "python",
   "nbconvert_exporter": "python",
   "pygments_lexer": "ipython3",
   "version": "3.7.3"
  }
 },
 "nbformat": 4,
 "nbformat_minor": 2
}
