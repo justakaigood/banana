{
  "nbformat": 4,
  "nbformat_minor": 0,
  "metadata": {
    "colab": {
      "name": "tensorflow 1",
      "provenance": [],
      "collapsed_sections": [],
      "authorship_tag": "ABX9TyOsOasetqPXo1BkETVEDv8Y",
      "include_colab_link": true
    },
    "kernelspec": {
      "name": "python3",
      "display_name": "Python 3"
    },
    "accelerator": "TPU"
  },
  "cells": [
    {
      "cell_type": "markdown",
      "metadata": {
        "id": "view-in-github",
        "colab_type": "text"
      },
      "source": [
        "<a href=\"https://colab.research.google.com/github/justakaigood/banana/blob/master/tensorflow_1.ipynb\" target=\"_parent\"><img src=\"https://colab.research.google.com/assets/colab-badge.svg\" alt=\"Open In Colab\"/></a>"
      ]
    },
    {
      "cell_type": "code",
      "metadata": {
        "id": "lpTu-HwO5Ofw",
        "colab_type": "code",
        "outputId": "9a53b18f-e9df-4100-f8d0-c31186ad343f",
        "colab": {
          "base_uri": "https://localhost:8080/",
          "height": 87
        }
      },
      "source": [
        "%tensorflow_version"
      ],
      "execution_count": 1,
      "outputs": [
        {
          "output_type": "stream",
          "text": [
            "Currently selected TF version: 2.x\n",
            "Available versions:\n",
            "* 1.x\n",
            "* 2.x\n"
          ],
          "name": "stdout"
        }
      ]
    },
    {
      "cell_type": "code",
      "metadata": {
        "id": "eYvkAIdn5xEx",
        "colab_type": "code",
        "colab": {}
      },
      "source": [
        "%tensorflow_version 2.x"
      ],
      "execution_count": 0,
      "outputs": []
    },
    {
      "cell_type": "code",
      "metadata": {
        "id": "uQMgkEhH7hgL",
        "colab_type": "code",
        "colab": {}
      },
      "source": [
        "%matplotlib inline\n",
        "import numpy as np\n",
        "import matplotlib.pyplot as plt"
      ],
      "execution_count": 0,
      "outputs": []
    },
    {
      "cell_type": "code",
      "metadata": {
        "id": "DeEMqTHB7paA",
        "colab_type": "code",
        "colab": {}
      },
      "source": [
        "import tensorflow as tf"
      ],
      "execution_count": 0,
      "outputs": []
    },
    {
      "cell_type": "code",
      "metadata": {
        "id": "EpcZB6Qe7tBM",
        "colab_type": "code",
        "colab": {}
      },
      "source": [
        "from tensorflow.keras.datasets import fashion_mnist"
      ],
      "execution_count": 0,
      "outputs": []
    },
    {
      "cell_type": "code",
      "metadata": {
        "id": "821zPIi37w-M",
        "colab_type": "code",
        "colab": {}
      },
      "source": [
        "(x_train,y_train),(x_test,y_test) = fashion_mnist.load_data()"
      ],
      "execution_count": 0,
      "outputs": []
    },
    {
      "cell_type": "code",
      "metadata": {
        "id": "dJ1IA27A8nKT",
        "colab_type": "code",
        "colab": {}
      },
      "source": [
        "class_names = ['T-shirt/top', 'Trouser', 'Pullover', 'Dress', 'Coat',\n",
        "               'Sandal', 'Shirt', 'Sneaker', 'Bag', 'Ankle boot']"
      ],
      "execution_count": 0,
      "outputs": []
    },
    {
      "cell_type": "code",
      "metadata": {
        "id": "gJtLL0ON9C3h",
        "colab_type": "code",
        "outputId": "d67da8fb-a0b4-4527-8205-b58f00e85a33",
        "colab": {
          "base_uri": "https://localhost:8080/",
          "height": 35
        }
      },
      "source": [
        "len(x_train),len(x_test)"
      ],
      "execution_count": 8,
      "outputs": [
        {
          "output_type": "execute_result",
          "data": {
            "text/plain": [
              "(60000, 10000)"
            ]
          },
          "metadata": {
            "tags": []
          },
          "execution_count": 8
        }
      ]
    },
    {
      "cell_type": "code",
      "metadata": {
        "id": "V6f1lOg99fP0",
        "colab_type": "code",
        "outputId": "9002fadd-9540-489c-aa91-7fdcaed8cbce",
        "colab": {
          "base_uri": "https://localhost:8080/",
          "height": 283
        }
      },
      "source": [
        "n=3333\n",
        "print('這是', class_names[y_train[n]])\n",
        "plt.imshow(x_train[n], cmap='Greys');"
      ],
      "execution_count": 9,
      "outputs": [
        {
          "output_type": "stream",
          "text": [
            "這是 T-shirt/top\n"
          ],
          "name": "stdout"
        },
        {
          "output_type": "display_data",
          "data": {
            "image/png": "[encoded data removed]",
            "text/plain": [
              "<Figure size 432x288 with 1 Axes>"
            ]
          },
          "metadata": {
            "tags": []
          }
        }
      ]
    },
    {
      "cell_type": "code",
      "metadata": {
        "id": "mhslafoI96JW",
        "colab_type": "code",
        "outputId": "a1c10f8a-8276-4700-c609-f574766f249b",
        "colab": {
          "base_uri": "https://localhost:8080/",
          "height": 106
        }
      },
      "source": [
        "pick = np.random.choice(60000, 5, replace=False)\n",
        "\n",
        "for i in range(5):\n",
        "    n = pick[i]\n",
        "    ax = plt.subplot(151+i)\n",
        "    ax.set_xticks([])\n",
        "    ax.set_yticks([])\n",
        "    ax.set_title(class_names[y_train[n]], fontsize=10)\n",
        "    plt.imshow(x_train[n], cmap='Greys')  "
      ],
      "execution_count": 10,
      "outputs": [
        {
          "output_type": "display_data",
          "data": {
            "image/png": "[encoded data removed]",
            "text/plain": [
              "<Figure size 432x288 with 5 Axes>"
            ]
          },
          "metadata": {
            "tags": []
          }
        }
      ]
    },
    {
      "cell_type": "code",
      "metadata": {
        "id": "hDYqfGHb-YRn",
        "colab_type": "code",
        "outputId": "fa493fb4-6a3a-45d4-9b20-cd144ffc1f65",
        "colab": {
          "base_uri": "https://localhost:8080/",
          "height": 35
        }
      },
      "source": [
        "class_names[y_train[3333]]"
      ],
      "execution_count": 11,
      "outputs": [
        {
          "output_type": "execute_result",
          "data": {
            "text/plain": [
              "'T-shirt/top'"
            ]
          },
          "metadata": {
            "tags": []
          },
          "execution_count": 11
        }
      ]
    },
    {
      "cell_type": "code",
      "metadata": {
        "id": "QoYiKP-i-f0h",
        "colab_type": "code",
        "outputId": "1e03cb03-9a76-4914-c078-4ab095a99d36",
        "colab": {
          "base_uri": "https://localhost:8080/",
          "height": 1000
        }
      },
      "source": [
        "x_train[n]"
      ],
      "execution_count": 12,
      "outputs": [
        {
          "output_type": "execute_result",
          "data": {
            "text/plain": [
              "array([[  0,   0,   0,   0,   2,   2,   0,   0,   0,   6,  85, 167,  85,\n",
              "         50,  55, 121, 236,  71,   0,   0,   0,   0,   0,   0,   0,   0,\n",
              "          0,   0],\n",
              "       [  0,   0,   0,   2,   0,   0,   0,  41,  85, 121, 110, 158, 179,\n",
              "        209, 195, 195, 255, 110,  68,  57,   6,   0,   0,   0,   0,   0,\n",
              "          0,   0],\n",
              "       [  0,   0,   0,   0,   6,  78,  96, 117, 105,  82,  73,  59,  87,\n",
              "        126, 149, 172,  71,  36,  78,  94,  91,  55,   6,   0,   2,   0,\n",
              "          0,   0],\n",
              "       [  0,   0,   0,   0, 103, 103,  82,  73,  71,  75,  73,  71,  68,\n",
              "         62,  59,  41,  41,  73,  68,  66,  64,  87,  80,  11,   0,   0,\n",
              "          0,   0],\n",
              "       [  0,   0,   0,  48, 126,  71,  71,  73,  75,  78,  73,  80,  68,\n",
              "         57,  55,  73,  68,  62,  59,  57,  62,  62,  73,  55,   0,   0,\n",
              "          0,   0],\n",
              "       [  0,   0,   0,  75, 107, 101,  73,  82,  75,  73,  71,  73,  75,\n",
              "         71,  68,  68,  57,  62,  57,  62,  68,  64,  62,  75,  11,   0,\n",
              "          0,   0],\n",
              "       [  0,   0,   4, 101,  85, 128, 103,  66,  73,  80,  91,  73,  80,\n",
              "         75,  78,  71,  62,  66,  59,  62,  64,  66,  62,  80,  48,   0,\n",
              "          0,   0],\n",
              "       [  0,   0,  20,  98,  94,  94, 151,  82,  71,  75,  96,  68,  71,\n",
              "         68,  78,  59,  52,  78,  64,  55,  52,  66,  64,  62,  73,   2,\n",
              "          0,   0],\n",
              "       [  0,   0,  73,  96,  82,  73, 174, 105,  94,  71,  87,  62,  73,\n",
              "         66,  89,  85,  75,  57,  55,  48,  71,  71,  55,  64,  71,  39,\n",
              "          0,   0],\n",
              "       [  0,   0,  32,  75,  98,  68, 209, 112, 137,  96,  85,  68,  94,\n",
              "         85,  73,  59,  73,  82,  73,  41, 167, 137,  43,  75,  78,  41,\n",
              "          0,   0],\n",
              "       [  0,   0,   0,   0,   6,  16, 140, 130, 117,  94,  87,  89,  73,\n",
              "         94,  73,  75,  85,  85,  78,  29, 117, 135,  73,  45,  18,   0,\n",
              "          0,   0],\n",
              "       [  0,   0,   0,   0,   0,   0,  22, 153, 105, 112,  91, 103,  71,\n",
              "         96,  78,  80,  78,  62,  66,  45,  82,  11,   0,   0,   0,   0,\n",
              "          0,   0],\n",
              "       [  0,   0,   0,   0,   2,   0,  39, 174, 105, 114,  66,  87,  71,\n",
              "         89, 110,  80,  73,  68,  59,  48,  85,   4,   0,   2,   0,   0,\n",
              "          0,   0],\n",
              "       [  0,   0,   0,   0,   2,   0,  20, 172, 112, 117,  89,  85,  85,\n",
              "         80,  75,  66,  75,  80,  50,  59,  80,   2,   0,   2,   0,   0,\n",
              "          0,   0],\n",
              "       [  0,   0,   0,   0,   2,   0,   9, 172, 112, 101, 114, 126,  73,\n",
              "         59,  78,  85,  57,  82,  55,  57,  75,   2,   0,   0,   0,   0,\n",
              "          0,   0],\n",
              "       [  0,   0,   0,   0,   2,   0,  11, 170, 110,  85,  89,  85,  87,\n",
              "         89,  80,  78,  52,  73,  64,  52,  73,   2,   0,   2,   0,   0,\n",
              "          0,   0],\n",
              "       [  0,   0,   0,   0,   2,   0,  13, 163, 112,  71, 121,  87,  68,\n",
              "         91,  85,  71,  73,  57,  62,  57,  68,   0,   0,   0,   0,   0,\n",
              "          0,   0],\n",
              "       [  0,   0,   0,   0,   2,   0,   6, 156, 101,  68, 112,  91,  78,\n",
              "         80,  82,  75,  73,  64,  62,  57,  68,   0,   0,   0,   0,   0,\n",
              "          0,   0],\n",
              "       [  0,   0,   0,   0,   0,   0,   4, 158,  96,  75, 107,  78,  71,\n",
              "         68,  73,  68,  59,  62,  64,  52,  64,   0,   0,   0,   0,   0,\n",
              "          0,   0],\n",
              "       [  0,   0,   0,   0,   2,   0,   6, 158,  91,  85, 112,  82,  68,\n",
              "         66,  78,  75,  68,  66,  66,  57,  64,   0,   0,   0,   0,   0,\n",
              "          0,   0],\n",
              "       [  0,   0,   0,   0,   2,   0,  11, 160,  87,  82, 112,  85,  66,\n",
              "         66,  80,  73,  75,  66,  68,  64,  68,   2,   0,   0,   0,   0,\n",
              "          0,   0],\n",
              "       [  0,   0,   0,   0,   2,   0,   4, 160,  96,  85, 114,  87,  71,\n",
              "         71,  82,  73,  75,  68,  68,  66,  68,   2,   0,   0,   0,   0,\n",
              "          0,   0],\n",
              "       [  0,   0,   0,   0,   2,   0,   4, 170, 110,  87, 117,  89,  71,\n",
              "         71,  80,  73,  75,  68,  73,  68,  68,   2,   0,   0,   0,   0,\n",
              "          0,   0],\n",
              "       [  0,   0,   0,   0,   2,   0,   6, 170, 112,  94, 121,  96,  75,\n",
              "         71,  82,  78,  80,  73,  66,  64,  75,   4,   0,   2,   0,   0,\n",
              "          0,   0],\n",
              "       [  0,   0,   0,   0,   2,   0,   4, 170, 114,  94, 117,  98,  75,\n",
              "         64,  82,  82,  78,  75,  66,  71,  78,   9,   0,   2,   2,   0,\n",
              "          0,   0],\n",
              "       [  0,   0,   0,   0,   2,   0,   4, 172, 119,  96, 114, 103,  78,\n",
              "         64,  80,  82,  78,  91,  73,  64,  80,   4,   0,   2,   2,   0,\n",
              "          0,   0],\n",
              "       [  0,   0,   0,   0,   2,   0,  16, 176, 151, 130, 126, 126,  85,\n",
              "         82, 105, 107, 107,  91,  80,  82, 103,   9,   0,   2,   0,   0,\n",
              "          0,   0],\n",
              "       [  0,   0,   0,   0,   0,   0,   0,  25,  45,  64,  71,  82,  68,\n",
              "         43,  45,  50,  48,  50,  50,  39,  27,   0,   0,   0,   0,   0,\n",
              "          0,   0]], dtype=uint8)"
            ]
          },
          "metadata": {
            "tags": []
          },
          "execution_count": 12
        }
      ]
    },
    {
      "cell_type": "code",
      "metadata": {
        "id": "nSrRsDWl-5oV",
        "colab_type": "code",
        "outputId": "a2fca2c9-d97c-441b-9558-caaa75d7d403",
        "colab": {
          "base_uri": "https://localhost:8080/",
          "height": 35
        }
      },
      "source": [
        "x_train.shape"
      ],
      "execution_count": 13,
      "outputs": [
        {
          "output_type": "execute_result",
          "data": {
            "text/plain": [
              "(60000, 28, 28)"
            ]
          },
          "metadata": {
            "tags": []
          },
          "execution_count": 13
        }
      ]
    },
    {
      "cell_type": "code",
      "metadata": {
        "id": "TOxghGpi-8bM",
        "colab_type": "code",
        "colab": {}
      },
      "source": [
        "x_train = x_train.reshape(60000, 784)\n",
        "x_test = x_test.reshape(10000, 784)"
      ],
      "execution_count": 0,
      "outputs": []
    },
    {
      "cell_type": "code",
      "metadata": {
        "id": "RIiZ19D9ELH9",
        "colab_type": "code",
        "colab": {}
      },
      "source": [
        "x_train=x_train.reshape(60000,784)"
      ],
      "execution_count": 0,
      "outputs": []
    },
    {
      "cell_type": "code",
      "metadata": {
        "id": "28GB-mGvFkdI",
        "colab_type": "code",
        "colab": {}
      },
      "source": [
        "from tensorflow.keras.utils import to_categorical"
      ],
      "execution_count": 0,
      "outputs": []
    },
    {
      "cell_type": "code",
      "metadata": {
        "id": "aLlQu4lFFzno",
        "colab_type": "code",
        "colab": {}
      },
      "source": [
        "y_train=to_categorical(y_train,10)"
      ],
      "execution_count": 0,
      "outputs": []
    },
    {
      "cell_type": "code",
      "metadata": {
        "id": "GjIzZleqF-5w",
        "colab_type": "code",
        "colab": {}
      },
      "source": [
        "y_test=to_categorical(y_test,10)"
      ],
      "execution_count": 0,
      "outputs": []
    },
    {
      "cell_type": "code",
      "metadata": {
        "id": "gIGU2eyx_QCs",
        "colab_type": "code",
        "colab": {}
      },
      "source": [
        "from tensorflow.keras.models import Sequential\n",
        "from tensorflow.keras.layers import Dense\n",
        "from tensorflow.keras.optimizers import SGD\n"
      ],
      "execution_count": 0,
      "outputs": []
    },
    {
      "cell_type": "code",
      "metadata": {
        "id": "nKZ3is9V_S0v",
        "colab_type": "code",
        "colab": {}
      },
      "source": [
        "model = Sequential()"
      ],
      "execution_count": 0,
      "outputs": []
    },
    {
      "cell_type": "code",
      "metadata": {
        "id": "6p7x-LhA_aCJ",
        "colab_type": "code",
        "colab": {}
      },
      "source": [
        "model.add(Dense(100, input_dim = 784, activation = 'relu'))"
      ],
      "execution_count": 0,
      "outputs": []
    },
    {
      "cell_type": "code",
      "metadata": {
        "id": "uS8xgqYm_pDx",
        "colab_type": "code",
        "colab": {}
      },
      "source": [
        "model.add(Dense(333, activation = 'relu'))\n",
        "model.add(Dense(10, activation = 'relu'))\n",
        "model.add(Dense(10, activation = 'softmax'))"
      ],
      "execution_count": 0,
      "outputs": []
    },
    {
      "cell_type": "code",
      "metadata": {
        "id": "YfW4jfGPBftW",
        "colab_type": "code",
        "colab": {}
      },
      "source": [
        "model.compile (loss='mse',optimizer=SGD(lr=0.333) ,metrics=['accuracy'])"
      ],
      "execution_count": 0,
      "outputs": []
    },
    {
      "cell_type": "code",
      "metadata": {
        "id": "DU0jRxeNEFlU",
        "colab_type": "code",
        "colab": {
          "base_uri": "https://localhost:8080/",
          "height": 295
        },
        "outputId": "d0485ea8-76a3-417d-f763-e0b4ed1b769a"
      },
      "source": [
        "model.summary()"
      ],
      "execution_count": 24,
      "outputs": [
        {
          "output_type": "stream",
          "text": [
            "Model: \"sequential\"\n",
            "_________________________________________________________________\n",
            "Layer (type)                 Output Shape              Param #   \n",
            "=================================================================\n",
            "dense (Dense)                (None, 100)               78500     \n",
            "_________________________________________________________________\n",
            "dense_1 (Dense)              (None, 333)               33633     \n",
            "_________________________________________________________________\n",
            "dense_2 (Dense)              (None, 10)                3340      \n",
            "_________________________________________________________________\n",
            "dense_3 (Dense)              (None, 10)                110       \n",
            "=================================================================\n",
            "Total params: 115,583\n",
            "Trainable params: 115,583\n",
            "Non-trainable params: 0\n",
            "_________________________________________________________________\n"
          ],
          "name": "stdout"
        }
      ]
    },
    {
      "cell_type": "code",
      "metadata": {
        "id": "vjsG4cPrGoas",
        "colab_type": "code",
        "colab": {
          "base_uri": "https://localhost:8080/",
          "height": 35
        },
        "outputId": "5f800c43-15a5-4a1d-ce6d-26d4a99b8c6b"
      },
      "source": [
        "100*333+333"
      ],
      "execution_count": 26,
      "outputs": [
        {
          "output_type": "execute_result",
          "data": {
            "text/plain": [
              "33633"
            ]
          },
          "metadata": {
            "tags": []
          },
          "execution_count": 26
        }
      ]
    },
    {
      "cell_type": "code",
      "metadata": {
        "id": "BRQFxQxLGvmh",
        "colab_type": "code",
        "colab": {
          "base_uri": "https://localhost:8080/",
          "height": 52
        },
        "outputId": "0fe96711-a13b-48e1-d251-a50a7dc3ef00"
      },
      "source": [
        "model.fit(x_train,y_train,batch_size=500,epoches=40)"
      ],
      "execution_count": 30,
      "outputs": [
        {
          "output_type": "stream",
          "text": [
            "120/120 [==============================] - 1s 11ms/step - loss: 0.1800 - accuracy: 0.1000\n"
          ],
          "name": "stdout"
        },
        {
          "output_type": "execute_result",
          "data": {
            "text/plain": [
              "<tensorflow.python.keras.callbacks.History at 0x7f03c2ea1b00>"
            ]
          },
          "metadata": {
            "tags": []
          },
          "execution_count": 30
        }
      ]
    },
    {
      "cell_type": "code",
      "metadata": {
        "id": "4BETsaj1HMTe",
        "colab_type": "code",
        "colab": {
          "base_uri": "https://localhost:8080/",
          "height": 300
        },
        "outputId": "1a2225bc-345a-4420-d5a0-09f4e3d15683"
      },
      "source": [
        "n=333\n",
        "result=model.predict_classes(x_test)\n",
        "result[333]\n",
        "print('final',result[n])\n",
        "plt.imshow(x_test[n].reshape(28,28),cmap='Greys')"
      ],
      "execution_count": 34,
      "outputs": [
        {
          "output_type": "stream",
          "text": [
            "final 8\n"
          ],
          "name": "stdout"
        },
        {
          "output_type": "execute_result",
          "data": {
            "text/plain": [
              "<matplotlib.image.AxesImage at 0x7f03c221a668>"
            ]
          },
          "metadata": {
            "tags": []
          },
          "execution_count": 34
        },
        {
          "output_type": "display_data",
          "data": {
            "image/png": "[encoded data removed]",
            "text/plain": [
              "<Figure size 432x288 with 1 Axes>"
            ]
          },
          "metadata": {
            "tags": []
          }
        }
      ]
    },
    {
      "cell_type": "code",
      "metadata": {
        "id": "W6nLwbpYH_AK",
        "colab_type": "code",
        "colab": {
          "base_uri": "https://localhost:8080/",
          "height": 52
        },
        "outputId": "76b0f25d-ae91-4472-bc10-195cc247ea04"
      },
      "source": [
        "model.fit(x_train,y_train,batch_size=50,epoches=400)"
      ],
      "execution_count": 36,
      "outputs": [
        {
          "output_type": "stream",
          "text": [
            "1200/1200 [==============================] - 3s 3ms/step - loss: 0.1800 - accuracy: 0.1000\n"
          ],
          "name": "stdout"
        },
        {
          "output_type": "execute_result",
          "data": {
            "text/plain": [
              "<tensorflow.python.keras.callbacks.History at 0x7f03c2186748>"
            ]
          },
          "metadata": {
            "tags": []
          },
          "execution_count": 36
        }
      ]
    },
    {
      "cell_type": "code",
      "metadata": {
        "id": "SSHjiS1KIFod",
        "colab_type": "code",
        "colab": {
          "base_uri": "https://localhost:8080/",
          "height": 300
        },
        "outputId": "4399fff7-ff46-4c4b-8e80-922d73e4a617"
      },
      "source": [
        "n=33\n",
        "result=model.predict_classes(x_test)\n",
        "result[33]\n",
        "print('final',result[n])\n",
        "plt.imshow(x_test[n].reshape(28,28),cmap='Greys')"
      ],
      "execution_count": 38,
      "outputs": [
        {
          "output_type": "stream",
          "text": [
            "final 8\n"
          ],
          "name": "stdout"
        },
        {
          "output_type": "execute_result",
          "data": {
            "text/plain": [
              "<matplotlib.image.AxesImage at 0x7f03c186f0f0>"
            ]
          },
          "metadata": {
            "tags": []
          },
          "execution_count": 38
        },
        {
          "output_type": "display_data",
          "data": {
            "image/png": "[encoded data removed]",
            "text/plain": [
              "<Figure size 432x288 with 1 Axes>"
            ]
          },
          "metadata": {
            "tags": []
          }
        }
      ]
    },
    {
      "cell_type": "code",
      "metadata": {
        "id": "_TtYUSfnIqgt",
        "colab_type": "code",
        "colab": {}
      },
      "source": [
        ""
      ],
      "execution_count": 0,
      "outputs": []
    }
  ]
}