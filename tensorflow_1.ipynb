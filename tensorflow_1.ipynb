{
  "nbformat": 4,
  "nbformat_minor": 0,
  "metadata": {
    "colab": {
      "name": "tensorflow 1",
      "provenance": [],
      "authorship_tag": "ABX9TyMa/pFQgHggkcqaKmHpfc1B",
      "include_colab_link": true
    },
    "kernelspec": {
      "name": "python3",
      "display_name": "Python 3"
    },
    "accelerator": "TPU"
  },
  "cells": [
    {
      "cell_type": "markdown",
      "metadata": {
        "id": "view-in-github",
        "colab_type": "text"
      },
      "source": [
        "<a href=\"https://colab.research.google.com/github/justakaigood/banana/blob/master/tensorflow_1.ipynb\" target=\"_parent\"><img src=\"https://colab.research.google.com/assets/colab-badge.svg\" alt=\"Open In Colab\"/></a>"
      ]
    },
    {
      "cell_type": "code",
      "metadata": {
        "id": "lpTu-HwO5Ofw",
        "colab_type": "code",
        "outputId": "9ea40390-d84e-4c92-d4af-0b15d122bcec",
        "colab": {
          "base_uri": "https://localhost:8080/",
          "height": 87
        }
      },
      "source": [
        "%tensorflow_version"
      ],
      "execution_count": 1,
      "outputs": [
        {
          "output_type": "stream",
          "text": [
            "Currently selected TF version: 2.x\n",
            "Available versions:\n",
            "* 1.x\n",
            "* 2.x\n"
          ],
          "name": "stdout"
        }
      ]
    },
    {
      "cell_type": "code",
      "metadata": {
        "id": "eYvkAIdn5xEx",
        "colab_type": "code",
        "colab": {}
      },
      "source": [
        "%tensorflow_version 2.x"
      ],
      "execution_count": 0,
      "outputs": []
    },
    {
      "cell_type": "code",
      "metadata": {
        "id": "uQMgkEhH7hgL",
        "colab_type": "code",
        "colab": {}
      },
      "source": [
        "%matplotlib inline\n",
        "import numpy as np\n",
        "import matplotlib.pyplot as plt"
      ],
      "execution_count": 0,
      "outputs": []
    },
    {
      "cell_type": "code",
      "metadata": {
        "id": "DeEMqTHB7paA",
        "colab_type": "code",
        "colab": {}
      },
      "source": [
        "import tensorflow as tf"
      ],
      "execution_count": 0,
      "outputs": []
    },
    {
      "cell_type": "code",
      "metadata": {
        "id": "EpcZB6Qe7tBM",
        "colab_type": "code",
        "colab": {}
      },
      "source": [
        "from tensorflow.keras.datasets import fashion_mnist"
      ],
      "execution_count": 0,
      "outputs": []
    },
    {
      "cell_type": "code",
      "metadata": {
        "id": "821zPIi37w-M",
        "colab_type": "code",
        "colab": {}
      },
      "source": [
        "(x_train,y_train),(x_test,y_test) = fashion_mnist.load_data()"
      ],
      "execution_count": 0,
      "outputs": []
    },
    {
      "cell_type": "code",
      "metadata": {
        "id": "dJ1IA27A8nKT",
        "colab_type": "code",
        "colab": {}
      },
      "source": [
        "class_names = ['T-shirt/top', 'Trouser', 'Pullover', 'Dress', 'Coat',\n",
        "               'Sandal', 'Shirt', 'Sneaker', 'Bag', 'Ankle boot']"
      ],
      "execution_count": 0,
      "outputs": []
    },
    {
      "cell_type": "code",
      "metadata": {
        "id": "gJtLL0ON9C3h",
        "colab_type": "code",
        "outputId": "27200f00-8dad-4426-9d31-6523ef7d9a4c",
        "colab": {
          "base_uri": "https://localhost:8080/",
          "height": 35
        }
      },
      "source": [
        "len(x_train),len(x_test)"
      ],
      "execution_count": 10,
      "outputs": [
        {
          "output_type": "execute_result",
          "data": {
            "text/plain": [
              "(60000, 10000)"
            ]
          },
          "metadata": {
            "tags": []
          },
          "execution_count": 10
        }
      ]
    },
    {
      "cell_type": "code",
      "metadata": {
        "id": "V6f1lOg99fP0",
        "colab_type": "code",
        "outputId": "950d9a6f-2cb2-4f0d-d74f-584a9650cf3f",
        "colab": {
          "base_uri": "https://localhost:8080/",
          "height": 283
        }
      },
      "source": [
        "n=1234\n",
        "print('這是', class_names[y_train[n]])\n",
        "plt.imshow(x_train[n], cmap='Greys');"
      ],
      "execution_count": 11,
      "outputs": [
        {
          "output_type": "stream",
          "text": [
            "這是 Bag\n"
          ],
          "name": "stdout"
        },
        {
          "output_type": "display_data",
          "data": {
            "image/png": "[encoded data removed]",
            "text/plain": [
              "<Figure size 432x288 with 1 Axes>"
            ]
          },
          "metadata": {
            "tags": []
          }
        }
      ]
    },
    {
      "cell_type": "code",
      "metadata": {
        "id": "mhslafoI96JW",
        "colab_type": "code",
        "outputId": "178033f6-f69d-461d-860f-5bd11c29b007",
        "colab": {
          "base_uri": "https://localhost:8080/",
          "height": 131
        }
      },
      "source": [
        "x_train[n]pick = np.random.choice(60000, 5, replace=False)\n",
        "\n",
        "for i in range(5):\n",
        "    n = pick[i]\n",
        "    ax = plt.subplot(151+i)\n",
        "    ax.set_xticks([])\n",
        "    ax.set_yticks([])\n",
        "    ax.set_title(class_names[y_train[n]], fontsize=10)\n",
        "    plt.imshow(x_train[n], cmap='Greys')  "
      ],
      "execution_count": 11,
      "outputs": [
        {
          "output_type": "error",
          "ename": "SyntaxError",
          "evalue": "ignored",
          "traceback": [
            "\u001b[0;36m  File \u001b[0;32m\"<ipython-input-12-0ed938acdf70>\"\u001b[0;36m, line \u001b[0;32m1\u001b[0m\n\u001b[0;31m    x_train[n]pick = np.random.choice(60000, 5, replace=False)\u001b[0m\n\u001b[0m                 ^\u001b[0m\n\u001b[0;31mSyntaxError\u001b[0m\u001b[0;31m:\u001b[0m invalid syntax\n"
          ]
        }
      ]
    },
    {
      "cell_type": "code",
      "metadata": {
        "id": "hDYqfGHb-YRn",
        "colab_type": "code",
        "outputId": "7a0b4799-832f-4686-df32-11d69495a477",
        "colab": {
          "base_uri": "https://localhost:8080/",
          "height": 35
        }
      },
      "source": [
        "class_names[y_train[0]]"
      ],
      "execution_count": 12,
      "outputs": [
        {
          "output_type": "execute_result",
          "data": {
            "text/plain": [
              "'Ankle boot'"
            ]
          },
          "metadata": {
            "tags": []
          },
          "execution_count": 12
        },
        {
          "output_type": "stream",
          "text": [
            "ERROR! Session/line number was not unique in database. History logging moved to new session 60\n"
          ],
          "name": "stdout"
        }
      ]
    },
    {
      "cell_type": "code",
      "metadata": {
        "id": "QoYiKP-i-f0h",
        "colab_type": "code",
        "outputId": "e47e9e2a-2c9b-4003-cca0-e61b0e253744",
        "colab": {
          "base_uri": "https://localhost:8080/",
          "height": 1000
        }
      },
      "source": [
        "x_train[n]"
      ],
      "execution_count": 13,
      "outputs": [
        {
          "output_type": "execute_result",
          "data": {
            "text/plain": [
              "array([[  0,   0,   0,   0,   0,   0,   0,   0,   0,   0,   0,   0,   0,\n",
              "          0,   0,   0,   0,   0,   0,   0,   0,   0,   0,   0,   0,   0,\n",
              "          0,   0],\n",
              "       [  0,   0,   0,   0,   0,   0,   0,   0,   0,   0,   0,   0,   0,\n",
              "          0,   0,   0,   0,   0,   0,   0,   0,   0,   0,   0,   0,   0,\n",
              "          0,   0],\n",
              "       [  0,   0,   0,   0,   0,   0,   0,   0,   0,   0,   0,   0,   0,\n",
              "          0,   0,   0,   0,   0,   0,   0,   0,   0,   0,   0,   0,   0,\n",
              "          0,   0],\n",
              "       [  0,   0,   0,   0,   0,   0,   0,   0,   0,   0,   0,   0,   0,\n",
              "          0,   0,   0,   0,   0,   0,   0,   0,   0,   0,   0,   0,   0,\n",
              "          0,   0],\n",
              "       [  0,   0,   0,   0,   0,   0,   0,   0,   0,   0,   0,   0,   0,\n",
              "          0,   0,   0,   0,   0,   0,   0,   0,   0,   0,   0,   0,   0,\n",
              "          0,   0],\n",
              "       [  0,   0,   0,  42,  41,  52,  52,  58,  28,   0,  17,   0,   0,\n",
              "          0,   0,   0,   0,   0,   0,   0,   0,   0,   0,   0,   0,   0,\n",
              "          0,   0],\n",
              "       [  0, 107, 156, 165, 187, 144, 148, 204, 186, 117, 122,  44,  15,\n",
              "         12,  14,  20,  29,  36,  51,  50,  49,  42,  52,  73,  98, 115,\n",
              "        133,  42],\n",
              "       [ 28, 167, 163, 144, 134, 126, 110,  99,  99, 117, 128, 150, 165,\n",
              "        159, 156, 161, 161, 150, 149, 149, 158, 170, 182, 170, 182, 187,\n",
              "        209, 161],\n",
              "       [ 24, 150, 139, 142, 144, 140, 148, 163, 166, 171, 166, 164, 163,\n",
              "        172, 174, 169, 165, 163, 158, 163, 170, 172, 174, 175, 181, 177,\n",
              "        197, 138],\n",
              "       [  8, 176, 145, 145, 152, 161, 165, 166, 163, 158, 153, 145, 140,\n",
              "        139, 138, 134, 136, 142, 166, 174, 182, 182, 182, 190, 198, 187,\n",
              "        228, 109],\n",
              "       [  0, 160, 137, 159, 158, 159, 161, 159, 161, 158, 161, 164, 163,\n",
              "        161, 166, 167, 170, 178, 182, 177, 177, 183, 182, 187, 196, 183,\n",
              "        246,  89],\n",
              "       [  0, 167, 150, 159, 158, 164, 165, 163, 169, 167, 164, 166, 174,\n",
              "        175, 180, 178, 176, 178, 171, 176, 178, 182, 183, 188, 191, 183,\n",
              "        252,  80],\n",
              "       [  0, 165, 152, 155, 163, 167, 169, 169, 167, 171, 171, 172, 170,\n",
              "        172, 171, 169, 171, 174, 176, 182, 182, 181, 183, 181, 183, 191,\n",
              "        253,  82],\n",
              "       [  0, 164, 153, 158, 165, 169, 170, 171, 169, 170, 169, 171, 171,\n",
              "        171, 171, 174, 176, 178, 178, 183, 183, 182, 182, 185, 190, 192,\n",
              "        255,  91],\n",
              "       [  0, 163, 154, 158, 169, 169, 171, 171, 170, 170, 170, 171, 171,\n",
              "        170, 171, 175, 177, 178, 181, 183, 182, 182, 181, 185, 192, 192,\n",
              "        250,  95],\n",
              "       [  0, 156, 154, 155, 169, 167, 170, 170, 169, 170, 169, 171, 170,\n",
              "        171, 175, 177, 177, 174, 181, 182, 181, 178, 181, 187, 194, 187,\n",
              "        242,  91],\n",
              "       [  0, 166, 163, 159, 170, 169, 166, 166, 169, 170, 171, 172, 174,\n",
              "        176, 177, 177, 177, 176, 181, 180, 178, 177, 182, 187, 191, 188,\n",
              "        241,  87],\n",
              "       [  0, 170, 166, 161, 169, 170, 166, 167, 170, 171, 172, 174, 175,\n",
              "        176, 176, 176, 176, 176, 180, 178, 178, 178, 181, 183, 186, 187,\n",
              "        239,  80],\n",
              "       [  0, 171, 167, 163, 167, 169, 169, 170, 170, 171, 172, 174, 176,\n",
              "        175, 174, 175, 174, 174, 176, 177, 178, 178, 182, 185, 188, 187,\n",
              "        241,  77],\n",
              "       [  0, 171, 169, 163, 165, 170, 172, 174, 171, 172, 175, 176, 177,\n",
              "        176, 176, 176, 177, 176, 172, 175, 178, 180, 183, 186, 190, 188,\n",
              "        243,  88],\n",
              "       [  0, 169, 165, 160, 159, 161, 164, 164, 165, 164, 165, 166, 167,\n",
              "        171, 171, 170, 170, 169, 167, 171, 175, 178, 181, 181, 186, 191,\n",
              "        239,  94],\n",
              "       [  0, 197, 181, 175, 197, 201, 196, 197, 207, 204, 202, 202, 204,\n",
              "        204, 203, 202, 201, 201, 199, 194, 192, 192, 187, 186, 193, 190,\n",
              "        243, 120],\n",
              "       [  0,  72, 106, 102, 105, 111, 110, 112, 120, 125, 121, 120, 118,\n",
              "        123, 128, 131, 134, 137, 131, 136, 147, 154, 165, 171, 172, 176,\n",
              "        198,  30],\n",
              "       [  0,   0,   0,   0,   0,   0,   0,   0,   0,   0,   0,   0,   0,\n",
              "          0,   0,   0,   0,   0,   0,   0,   0,   0,   0,   0,   0,   0,\n",
              "          0,   0],\n",
              "       [  0,   0,   0,   0,   0,   0,   0,   0,   0,   0,   0,   0,   0,\n",
              "          0,   0,   0,   0,   0,   0,   0,   0,   0,   0,   0,   0,   0,\n",
              "          0,   0],\n",
              "       [  0,   0,   0,   0,   0,   0,   0,   0,   0,   0,   0,   0,   0,\n",
              "          0,   0,   0,   0,   0,   0,   0,   0,   0,   0,   0,   0,   0,\n",
              "          0,   0],\n",
              "       [  0,   0,   0,   0,   0,   0,   0,   0,   0,   0,   0,   0,   0,\n",
              "          0,   0,   0,   0,   0,   0,   0,   0,   0,   0,   0,   0,   0,\n",
              "          0,   0],\n",
              "       [  0,   0,   0,   0,   0,   0,   0,   0,   0,   0,   0,   0,   0,\n",
              "          0,   0,   0,   0,   0,   0,   0,   0,   0,   0,   0,   0,   0,\n",
              "          0,   0]], dtype=uint8)"
            ]
          },
          "metadata": {
            "tags": []
          },
          "execution_count": 13
        }
      ]
    },
    {
      "cell_type": "code",
      "metadata": {
        "id": "DStpvWUb-2NM",
        "colab_type": "code",
        "outputId": "d54e901d-c14b-47da-8ccd-41f8bc2f8bf1",
        "colab": {
          "base_uri": "https://localhost:8080/",
          "height": 35
        }
      },
      "source": [
        "y_train[n]"
      ],
      "execution_count": 14,
      "outputs": [
        {
          "output_type": "execute_result",
          "data": {
            "text/plain": [
              "8"
            ]
          },
          "metadata": {
            "tags": []
          },
          "execution_count": 14
        }
      ]
    },
    {
      "cell_type": "code",
      "metadata": {
        "id": "nSrRsDWl-5oV",
        "colab_type": "code",
        "outputId": "d2a2ca27-e28d-4834-fd09-962853565750",
        "colab": {
          "base_uri": "https://localhost:8080/",
          "height": 35
        }
      },
      "source": [
        "x_train.shape"
      ],
      "execution_count": 15,
      "outputs": [
        {
          "output_type": "execute_result",
          "data": {
            "text/plain": [
              "(60000, 28, 28)"
            ]
          },
          "metadata": {
            "tags": []
          },
          "execution_count": 15
        }
      ]
    },
    {
      "cell_type": "code",
      "metadata": {
        "id": "TOxghGpi-8bM",
        "colab_type": "code",
        "colab": {}
      },
      "source": [
        "x_train = x_train.reshape(60000, 784)\n",
        "x_test = x_test.reshape(10000, 784)"
      ],
      "execution_count": 0,
      "outputs": []
    },
    {
      "cell_type": "code",
      "metadata": {
        "id": "gIGU2eyx_QCs",
        "colab_type": "code",
        "colab": {}
      },
      "source": [
        "from tensorflow.keras.models import Sequential\n",
        "from tensorflow.keras.layers import Dense\n",
        "from tensorflow.keras.optimizers import Adagrad\n"
      ],
      "execution_count": 0,
      "outputs": []
    },
    {
      "cell_type": "code",
      "metadata": {
        "id": "nKZ3is9V_S0v",
        "colab_type": "code",
        "colab": {}
      },
      "source": [
        "model = Sequential()"
      ],
      "execution_count": 0,
      "outputs": []
    },
    {
      "cell_type": "code",
      "metadata": {
        "id": "6p7x-LhA_aCJ",
        "colab_type": "code",
        "colab": {}
      },
      "source": [
        "model.add(Dense(100, input_dim = 784, activation = 'relu'))"
      ],
      "execution_count": 0,
      "outputs": []
    },
    {
      "cell_type": "code",
      "metadata": {
        "id": "uS8xgqYm_pDx",
        "colab_type": "code",
        "colab": {}
      },
      "source": [
        "model.add(Dense(80, activation = 'elu'))\n",
        "model.add(Dense(40, activation = 'sigmoid'))\n",
        "model.add(Dense(20, activation = 'softmax'))"
      ],
      "execution_count": 0,
      "outputs": []
    },
    {
      "cell_type": "code",
      "metadata": {
        "id": "UgUqMlo6_8n4",
        "colab_type": "code",
        "outputId": "81a36ca0-1f32-469c-8fe5-b74f2052ee50",
        "colab": {
          "base_uri": "https://localhost:8080/",
          "height": 295
        }
      },
      "source": [
        "model.compile(loss = 'mae', optimizer = Adagrad(lr = 0.025), metrics = ['accuracy'])\n",
        "model.summary()"
      ],
      "execution_count": 21,
      "outputs": [
        {
          "output_type": "stream",
          "text": [
            "Model: \"sequential\"\n",
            "_________________________________________________________________\n",
            "Layer (type)                 Output Shape              Param #   \n",
            "=================================================================\n",
            "dense (Dense)                (None, 100)               78500     \n",
            "_________________________________________________________________\n",
            "dense_1 (Dense)              (None, 80)                8080      \n",
            "_________________________________________________________________\n",
            "dense_2 (Dense)              (None, 40)                3240      \n",
            "_________________________________________________________________\n",
            "dense_3 (Dense)              (None, 20)                820       \n",
            "=================================================================\n",
            "Total params: 90,640\n",
            "Trainable params: 90,640\n",
            "Non-trainable params: 0\n",
            "_________________________________________________________________\n"
          ],
          "name": "stdout"
        }
      ]
    },
    {
      "cell_type": "code",
      "metadata": {
        "id": "31rR0GmtADZq",
        "colab_type": "code",
        "outputId": "5b38f895-10ae-462d-f9fb-f07d1f735126",
        "colab": {
          "base_uri": "https://localhost:8080/",
          "height": 381
        }
      },
      "source": [
        "model.fit(x_train, y_train, batch_size = 1000, epochs = 10, shuffle = True)"
      ],
      "execution_count": 22,
      "outputs": [
        {
          "output_type": "stream",
          "text": [
            "Epoch 1/10\n",
            "60/60 [==============================] - 1s 14ms/step - loss: 4.4600 - accuracy: 0.0075\n",
            "Epoch 2/10\n",
            "60/60 [==============================] - 1s 14ms/step - loss: 4.4600 - accuracy: 0.0075\n",
            "Epoch 3/10\n",
            "60/60 [==============================] - 1s 14ms/step - loss: 4.4600 - accuracy: 0.0075\n",
            "Epoch 4/10\n",
            "60/60 [==============================] - 1s 14ms/step - loss: 4.4600 - accuracy: 0.0075\n",
            "Epoch 5/10\n",
            "60/60 [==============================] - 1s 14ms/step - loss: 4.4600 - accuracy: 0.0075\n",
            "Epoch 6/10\n",
            "60/60 [==============================] - 1s 14ms/step - loss: 4.4600 - accuracy: 0.0075\n",
            "Epoch 7/10\n",
            "60/60 [==============================] - 1s 13ms/step - loss: 4.4600 - accuracy: 0.0075\n",
            "Epoch 8/10\n",
            "60/60 [==============================] - 1s 14ms/step - loss: 4.4600 - accuracy: 0.0075\n",
            "Epoch 9/10\n",
            "60/60 [==============================] - 1s 15ms/step - loss: 4.4600 - accuracy: 0.0075\n",
            "Epoch 10/10\n",
            "60/60 [==============================] - 1s 13ms/step - loss: 4.4600 - accuracy: 0.0075\n"
          ],
          "name": "stdout"
        },
        {
          "output_type": "execute_result",
          "data": {
            "text/plain": [
              "<tensorflow.python.keras.callbacks.History at 0x7f61b73480f0>"
            ]
          },
          "metadata": {
            "tags": []
          },
          "execution_count": 22
        }
      ]
    },
    {
      "cell_type": "code",
      "metadata": {
        "id": "YfW4jfGPBftW",
        "colab_type": "code",
        "colab": {}
      },
      "source": [
        ""
      ],
      "execution_count": 0,
      "outputs": []
    }
  ]
}