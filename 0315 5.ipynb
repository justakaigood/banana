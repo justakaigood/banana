{
 "cells": [
  {
   "cell_type": "markdown",
   "metadata": {},
   "source": [
    "檢視當前資料夾"
   ]
  },
  {
   "cell_type": "code",
   "execution_count": 4,
   "metadata": {},
   "outputs": [],
   "source": [
    "import os"
   ]
  },
  {
   "cell_type": "code",
   "execution_count": 5,
   "metadata": {},
   "outputs": [
    {
     "name": "stdout",
     "output_type": "stream",
     "text": [
      "['.git', '.ipynb_checkpoints', '0307 1.ipynb', '0307 2.ipynb', '0307 3.ipynb', '0315 1.ipynb', '0315 2.ipynb', '0315 3.ipynb', '10 8作業1.ipynb', '10 8作業2.ipynb', '10 8作業3.ipynb', '10 8作業4.ipynb', '10月21 作業2.ipynb', '10月22 作業1.ipynb', '10月22 作業3.ipynb', '10月27 1.ipynb', '10月27 2.ipynb', '10月27 3.ipynb', '10月27 4.ipynb', '10月27 5.ipynb', '10月30 上課.ipynb', '1120 上課.ipynb', '1126作業1.ipynb', '1126作業2.ipynb', '1126作業3.ipynb', '1126作業4.ipynb', '11月中1.ipynb', '11月中2.ipynb', '12 31 1.ipynb', '12 31 2.ipynb', '12 31 3.ipynb', '12 31 4.ipynb', '1201 1.ipynb', '1203 1.ipynb', '1203 2.ipynb', '1203 3.ipynb', '1203 4.ipynb', '3 3 1.ipynb', '3 3 2.ipynb', '5e236cb8a07589fe7aa343a4f5ed0312.jpg', 'eggs', 'mydic.csv', 'p8377191a546510502.jpg', 'test.txt', 'ttext.txt', 'Untitled.ipynb', 'Untitled1.ipynb', 'Untitled2.ipynb', 'Untitled3.ipynb', 'Untitled4.ipynb', 'Untitled5.ipynb', '作業2-2.ipynb', '作業2.ipynb', '作業3-2.ipynb', '作業3.ipynb', '作業4.ipynb', '光棍 1.ipynb', '包種茶.ipynb', '期末.ipynb', '波士頓2.ipynb', '第7週上課.ipynb', '第一周作業.ipynb', '第三周上課.ipynb', '第二周上課.ipynb', '第五周上課.ipynb', '第四周上課.ipynb', '資料結構1.ipynb', '資料結構2.ipynb', '雙十節作業04.ipynb', '雙十節作業1.ipynb', '雙十節作業2.ipynb', '雙十節作業3.ipynb']\n"
     ]
    }
   ],
   "source": [
    "print(os.listdir('.'))"
   ]
  },
  {
   "cell_type": "code",
   "execution_count": 6,
   "metadata": {},
   "outputs": [
    {
     "name": "stdout",
     "output_type": "stream",
     "text": [
      ".git\n",
      ".ipynb_checkpoints\n",
      "eggs\n"
     ]
    }
   ],
   "source": [
    "path = os.listdir(os.getcwd())\n",
    "for p in path:\n",
    "    if os.path.isdir(p):\n",
    "        print(p)"
   ]
  },
  {
   "cell_type": "code",
   "execution_count": null,
   "metadata": {},
   "outputs": [],
   "source": []
  }
 ],
 "metadata": {
  "kernelspec": {
   "display_name": "Python 3",
   "language": "python",
   "name": "python3"
  },
  "language_info": {
   "codemirror_mode": {
    "name": "ipython",
    "version": 3
   },
   "file_extension": ".py",
   "mimetype": "text/x-python",
   "name": "python",
   "nbconvert_exporter": "python",
   "pygments_lexer": "ipython3",
   "version": "3.7.3"
  }
 },
 "nbformat": 4,
 "nbformat_minor": 2
}
