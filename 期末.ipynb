{
 "cells": [
  {
   "cell_type": "code",
   "execution_count": 1,
   "metadata": {},
   "outputs": [],
   "source": [
    "import os"
   ]
  },
  {
   "cell_type": "code",
   "execution_count": 2,
   "metadata": {},
   "outputs": [
    {
     "data": {
      "text/plain": [
       "''"
      ]
     },
     "execution_count": 2,
     "metadata": {},
     "output_type": "execute_result"
    }
   ],
   "source": [
    "import tkinter as tk \n",
    "window = tk.Tk()\n",
    "window.title('應用程式大集合')\n",
    "window.geometry('500x500')\n"
   ]
  },
  {
   "cell_type": "code",
   "execution_count": 3,
   "metadata": {},
   "outputs": [],
   "source": [
    "def ab():\n",
    "    os.system('notepad')\n",
    "def ac():\n",
    "    os.system('calc')\n",
    "def ad():\n",
    "    os.system('mspaint')\n",
    "def ae():\n",
    "    os.system('spotify')\n",
    "b1 = tk.Button(window, text='開啟記事本', width=30,bg='yellow',\n",
    "               height=2, command=ab)\n",
    "b1.pack()\n",
    "b2 = tk.Button(window, text='開啟計算機', width=30,bg='yellow',\n",
    "               height=2, command=ac)\n",
    "b2.pack()\n",
    "b3 = tk.Button(window, text='開啟小畫家', width=30,bg='yellow',\n",
    "               height=2, command=ad)\n",
    "b3.pack()\n",
    "b4 = tk.Button(window, text='開啟音樂', width=30,bg='yellow',\n",
    "               height=2, command=ae)\n",
    "b4.pack()"
   ]
  },
  {
   "cell_type": "code",
   "execution_count": 4,
   "metadata": {},
   "outputs": [],
   "source": [
    "window.mainloop()"
   ]
  },
  {
   "cell_type": "code",
   "execution_count": null,
   "metadata": {},
   "outputs": [],
   "source": []
  }
 ],
 "metadata": {
  "kernelspec": {
   "display_name": "Python 3",
   "language": "python",
   "name": "python3"
  },
  "language_info": {
   "codemirror_mode": {
    "name": "ipython",
    "version": 3
   },
   "file_extension": ".py",
   "mimetype": "text/x-python",
   "name": "python",
   "nbconvert_exporter": "python",
   "pygments_lexer": "ipython3",
   "version": "3.7.3"
  }
 },
 "nbformat": 4,
 "nbformat_minor": 2
}
