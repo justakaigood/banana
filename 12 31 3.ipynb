{
 "cells": [
  {
   "cell_type": "markdown",
   "metadata": {},
   "source": [
    "國小生用"
   ]
  },
  {
   "cell_type": "code",
   "execution_count": 1,
   "metadata": {},
   "outputs": [],
   "source": [
    "%matplotlib inline\n",
    "\n",
    "import numpy as np\n",
    "import matplotlib.pyplot as plt\n",
    "import pandas as pd"
   ]
  },
  {
   "cell_type": "code",
   "execution_count": 2,
   "metadata": {},
   "outputs": [
    {
     "name": "stdout",
     "output_type": "stream",
     "text": [
      " 1  2  3  4  5  6  7  8  9 \n",
      " 2  4  6  8 10 12 14 16 18 \n",
      " 3  6  9 12 15 18 21 24 27 \n",
      " 4  8 12 16 20 24 28 32 36 \n",
      " 5 10 15 20 25 30 35 40 45 \n",
      " 6 12 18 24 30 36 42 48 54 \n",
      " 7 14 21 28 35 42 49 56 63 \n",
      " 8 16 24 32 40 48 56 64 72 \n",
      " 9 18 27 36 45 54 63 72 81 \n"
     ]
    }
   ],
   "source": [
    "s= \"\"\n",
    "ss= \"\"\n",
    "for i in range(1,10):    \n",
    "    for j in range(1,10):\n",
    "        ss = \" \"+str(i*j)\n",
    "        ss = ss[-2:]\n",
    "        s += ss+\" \"\n",
    "    print(s)\n",
    "    s=\"\""
   ]
  },
  {
   "cell_type": "code",
   "execution_count": null,
   "metadata": {},
   "outputs": [],
   "source": []
  }
 ],
 "metadata": {
  "kernelspec": {
   "display_name": "Python 3",
   "language": "python",
   "name": "python3"
  },
  "language_info": {
   "codemirror_mode": {
    "name": "ipython",
    "version": 3
   },
   "file_extension": ".py",
   "mimetype": "text/x-python",
   "name": "python",
   "nbconvert_exporter": "python",
   "pygments_lexer": "ipython3",
   "version": "3.7.3"
  }
 },
 "nbformat": 4,
 "nbformat_minor": 2
}
